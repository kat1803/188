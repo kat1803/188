{
 "cells": [
  {
   "cell_type": "code",
   "execution_count": 5,
   "metadata": {},
   "outputs": [
    {
     "name": "stdout",
     "output_type": "stream",
     "text": [
      "\u001b[33mDEPRECATION: Python 2.7 will reach the end of its life on January 1st, 2020. Please upgrade your Python as Python 2.7 won't be maintained after that date. A future version of pip will drop support for Python 2.7.\u001b[0m\n",
      "Requirement already satisfied: nltk in /Users/phucle/Library/Python/2.7/lib/python/site-packages (3.4.5)\n",
      "Requirement already satisfied: six in /Users/phucle/Library/Python/2.7/lib/python/site-packages (from nltk) (1.11.0)\n",
      "Requirement already satisfied: singledispatch in /Users/phucle/Library/Python/2.7/lib/python/site-packages (from nltk) (3.4.0.3)\n",
      "\u001b[33mYou are using pip version 19.0.2, however version 19.3.1 is available.\n",
      "You should consider upgrading via the 'pip install --upgrade pip' command.\u001b[0m\n"
     ]
    }
   ],
   "source": [
    "! pip install --user nltk"
   ]
  },
  {
   "cell_type": "code",
   "execution_count": 6,
   "metadata": {},
   "outputs": [],
   "source": [
    "import numpy as np\n",
    "import pandas as pd\n",
    "import nltk\n",
    "import csv\n",
    "from nltk.tokenize import word_tokenize\n",
    "from nltk import pos_tag\n",
    "from nltk.corpus import stopwords\n",
    "from nltk.stem import WordNetLemmatizer\n",
    "from sklearn.preprocessing import LabelEncoder\n",
    "from collections import defaultdict\n",
    "from nltk.corpus import wordnet as wn\n",
    "from sklearn.feature_extraction.text import TfidfVectorizer\n",
    "from sklearn import model_selection, naive_bayes, svm\n",
    "from sklearn.metrics import accuracy_score\n",
    "from sklearn.metrics import confusion_matrix\n",
    "from sklearn import metrics\n",
    "from sklearn.model_selection import train_test_split\n",
    "from scipy import sparse\n"
   ]
  },
  {
   "cell_type": "code",
   "execution_count": 7,
   "metadata": {},
   "outputs": [],
   "source": [
    "# 1\n",
    "df = pd.read_csv('./modified_v2.csv')\n",
    "# df2 = pd.read_csv('./mapkickstarter/word_token.csv')"
   ]
  },
  {
   "cell_type": "code",
   "execution_count": 6,
   "metadata": {},
   "outputs": [
    {
     "ename": "NameError",
     "evalue": "name 'df2' is not defined",
     "output_type": "error",
     "traceback": [
      "\u001b[0;31m---------------------------------------------------------------------------\u001b[0m",
      "\u001b[0;31mNameError\u001b[0m                                 Traceback (most recent call last)",
      "\u001b[0;32m<ipython-input-6-0773abc809db>\u001b[0m in \u001b[0;36m<module>\u001b[0;34m()\u001b[0m\n\u001b[0;32m----> 1\u001b[0;31m \u001b[0mdf\u001b[0m\u001b[0;34m[\u001b[0m\u001b[0;34m'word_token'\u001b[0m\u001b[0;34m]\u001b[0m \u001b[0;34m=\u001b[0m \u001b[0mdf2\u001b[0m\u001b[0;34m[\u001b[0m\u001b[0;34m'text_final'\u001b[0m\u001b[0;34m]\u001b[0m\u001b[0;34m\u001b[0m\u001b[0m\n\u001b[0m",
      "\u001b[0;31mNameError\u001b[0m: name 'df2' is not defined"
     ]
    }
   ],
   "source": [
    "df['word_token'] = df2['text_final']"
   ]
  },
  {
   "cell_type": "code",
   "execution_count": 8,
   "metadata": {},
   "outputs": [],
   "source": [
    "df2 = pd.DataFrame(columns = ['text_final'])"
   ]
  },
  {
   "cell_type": "code",
   "execution_count": 9,
   "metadata": {},
   "outputs": [
    {
     "ename": "KeyError",
     "evalue": "4",
     "output_type": "error",
     "traceback": [
      "\u001b[0;31m---------------------------------------------------------------------------\u001b[0m",
      "\u001b[0;31mKeyError\u001b[0m                                  Traceback (most recent call last)",
      "\u001b[0;32m<ipython-input-9-c9966f2ceaa3>\u001b[0m in \u001b[0;36m<module>\u001b[0;34m()\u001b[0m\n\u001b[0;32m----> 1\u001b[0;31m \u001b[0mdf2\u001b[0m\u001b[0;34m.\u001b[0m\u001b[0mloc\u001b[0m\u001b[0;34m[\u001b[0m\u001b[0;36m4\u001b[0m\u001b[0;34m,\u001b[0m\u001b[0;34m'blurb'\u001b[0m\u001b[0;34m]\u001b[0m\u001b[0;34m\u001b[0m\u001b[0m\n\u001b[0m",
      "\u001b[0;32m/Library/Frameworks/Python.framework/Versions/2.7/lib/python2.7/site-packages/pandas/core/indexing.pyc\u001b[0m in \u001b[0;36m__getitem__\u001b[0;34m(self, key)\u001b[0m\n\u001b[1;32m   1492\u001b[0m             \u001b[0;32mexcept\u001b[0m \u001b[0;34m(\u001b[0m\u001b[0mKeyError\u001b[0m\u001b[0;34m,\u001b[0m \u001b[0mIndexError\u001b[0m\u001b[0;34m,\u001b[0m \u001b[0mAttributeError\u001b[0m\u001b[0;34m)\u001b[0m\u001b[0;34m:\u001b[0m\u001b[0;34m\u001b[0m\u001b[0m\n\u001b[1;32m   1493\u001b[0m                 \u001b[0;32mpass\u001b[0m\u001b[0;34m\u001b[0m\u001b[0m\n\u001b[0;32m-> 1494\u001b[0;31m             \u001b[0;32mreturn\u001b[0m \u001b[0mself\u001b[0m\u001b[0;34m.\u001b[0m\u001b[0m_getitem_tuple\u001b[0m\u001b[0;34m(\u001b[0m\u001b[0mkey\u001b[0m\u001b[0;34m)\u001b[0m\u001b[0;34m\u001b[0m\u001b[0m\n\u001b[0m\u001b[1;32m   1495\u001b[0m         \u001b[0;32melse\u001b[0m\u001b[0;34m:\u001b[0m\u001b[0;34m\u001b[0m\u001b[0m\n\u001b[1;32m   1496\u001b[0m             \u001b[0;31m# we by definition only have the 0th axis\u001b[0m\u001b[0;34m\u001b[0m\u001b[0;34m\u001b[0m\u001b[0m\n",
      "\u001b[0;32m/Library/Frameworks/Python.framework/Versions/2.7/lib/python2.7/site-packages/pandas/core/indexing.pyc\u001b[0m in \u001b[0;36m_getitem_tuple\u001b[0;34m(self, tup)\u001b[0m\n\u001b[1;32m    866\u001b[0m     \u001b[0;32mdef\u001b[0m \u001b[0m_getitem_tuple\u001b[0m\u001b[0;34m(\u001b[0m\u001b[0mself\u001b[0m\u001b[0;34m,\u001b[0m \u001b[0mtup\u001b[0m\u001b[0;34m)\u001b[0m\u001b[0;34m:\u001b[0m\u001b[0;34m\u001b[0m\u001b[0m\n\u001b[1;32m    867\u001b[0m         \u001b[0;32mtry\u001b[0m\u001b[0;34m:\u001b[0m\u001b[0;34m\u001b[0m\u001b[0m\n\u001b[0;32m--> 868\u001b[0;31m             \u001b[0;32mreturn\u001b[0m \u001b[0mself\u001b[0m\u001b[0;34m.\u001b[0m\u001b[0m_getitem_lowerdim\u001b[0m\u001b[0;34m(\u001b[0m\u001b[0mtup\u001b[0m\u001b[0;34m)\u001b[0m\u001b[0;34m\u001b[0m\u001b[0m\n\u001b[0m\u001b[1;32m    869\u001b[0m         \u001b[0;32mexcept\u001b[0m \u001b[0mIndexingError\u001b[0m\u001b[0;34m:\u001b[0m\u001b[0;34m\u001b[0m\u001b[0m\n\u001b[1;32m    870\u001b[0m             \u001b[0;32mpass\u001b[0m\u001b[0;34m\u001b[0m\u001b[0m\n",
      "\u001b[0;32m/Library/Frameworks/Python.framework/Versions/2.7/lib/python2.7/site-packages/pandas/core/indexing.pyc\u001b[0m in \u001b[0;36m_getitem_lowerdim\u001b[0;34m(self, tup)\u001b[0m\n\u001b[1;32m    986\u001b[0m         \u001b[0;32mfor\u001b[0m \u001b[0mi\u001b[0m\u001b[0;34m,\u001b[0m \u001b[0mkey\u001b[0m \u001b[0;32min\u001b[0m \u001b[0menumerate\u001b[0m\u001b[0;34m(\u001b[0m\u001b[0mtup\u001b[0m\u001b[0;34m)\u001b[0m\u001b[0;34m:\u001b[0m\u001b[0;34m\u001b[0m\u001b[0m\n\u001b[1;32m    987\u001b[0m             \u001b[0;32mif\u001b[0m \u001b[0mis_label_like\u001b[0m\u001b[0;34m(\u001b[0m\u001b[0mkey\u001b[0m\u001b[0;34m)\u001b[0m \u001b[0;32mor\u001b[0m \u001b[0misinstance\u001b[0m\u001b[0;34m(\u001b[0m\u001b[0mkey\u001b[0m\u001b[0;34m,\u001b[0m \u001b[0mtuple\u001b[0m\u001b[0;34m)\u001b[0m\u001b[0;34m:\u001b[0m\u001b[0;34m\u001b[0m\u001b[0m\n\u001b[0;32m--> 988\u001b[0;31m                 \u001b[0msection\u001b[0m \u001b[0;34m=\u001b[0m \u001b[0mself\u001b[0m\u001b[0;34m.\u001b[0m\u001b[0m_getitem_axis\u001b[0m\u001b[0;34m(\u001b[0m\u001b[0mkey\u001b[0m\u001b[0;34m,\u001b[0m \u001b[0maxis\u001b[0m\u001b[0;34m=\u001b[0m\u001b[0mi\u001b[0m\u001b[0;34m)\u001b[0m\u001b[0;34m\u001b[0m\u001b[0m\n\u001b[0m\u001b[1;32m    989\u001b[0m \u001b[0;34m\u001b[0m\u001b[0m\n\u001b[1;32m    990\u001b[0m                 \u001b[0;31m# we have yielded a scalar ?\u001b[0m\u001b[0;34m\u001b[0m\u001b[0;34m\u001b[0m\u001b[0m\n",
      "\u001b[0;32m/Library/Frameworks/Python.framework/Versions/2.7/lib/python2.7/site-packages/pandas/core/indexing.pyc\u001b[0m in \u001b[0;36m_getitem_axis\u001b[0;34m(self, key, axis)\u001b[0m\n\u001b[1;32m   1911\u001b[0m         \u001b[0;31m# fall thru to straight lookup\u001b[0m\u001b[0;34m\u001b[0m\u001b[0;34m\u001b[0m\u001b[0m\n\u001b[1;32m   1912\u001b[0m         \u001b[0mself\u001b[0m\u001b[0;34m.\u001b[0m\u001b[0m_validate_key\u001b[0m\u001b[0;34m(\u001b[0m\u001b[0mkey\u001b[0m\u001b[0;34m,\u001b[0m \u001b[0maxis\u001b[0m\u001b[0;34m)\u001b[0m\u001b[0;34m\u001b[0m\u001b[0m\n\u001b[0;32m-> 1913\u001b[0;31m         \u001b[0;32mreturn\u001b[0m \u001b[0mself\u001b[0m\u001b[0;34m.\u001b[0m\u001b[0m_get_label\u001b[0m\u001b[0;34m(\u001b[0m\u001b[0mkey\u001b[0m\u001b[0;34m,\u001b[0m \u001b[0maxis\u001b[0m\u001b[0;34m=\u001b[0m\u001b[0maxis\u001b[0m\u001b[0;34m)\u001b[0m\u001b[0;34m\u001b[0m\u001b[0m\n\u001b[0m\u001b[1;32m   1914\u001b[0m \u001b[0;34m\u001b[0m\u001b[0m\n\u001b[1;32m   1915\u001b[0m \u001b[0;34m\u001b[0m\u001b[0m\n",
      "\u001b[0;32m/Library/Frameworks/Python.framework/Versions/2.7/lib/python2.7/site-packages/pandas/core/indexing.pyc\u001b[0m in \u001b[0;36m_get_label\u001b[0;34m(self, label, axis)\u001b[0m\n\u001b[1;32m    139\u001b[0m             \u001b[0;32mraise\u001b[0m \u001b[0mIndexingError\u001b[0m\u001b[0;34m(\u001b[0m\u001b[0;34m'no slices here, handle elsewhere'\u001b[0m\u001b[0;34m)\u001b[0m\u001b[0;34m\u001b[0m\u001b[0m\n\u001b[1;32m    140\u001b[0m \u001b[0;34m\u001b[0m\u001b[0m\n\u001b[0;32m--> 141\u001b[0;31m         \u001b[0;32mreturn\u001b[0m \u001b[0mself\u001b[0m\u001b[0;34m.\u001b[0m\u001b[0mobj\u001b[0m\u001b[0;34m.\u001b[0m\u001b[0m_xs\u001b[0m\u001b[0;34m(\u001b[0m\u001b[0mlabel\u001b[0m\u001b[0;34m,\u001b[0m \u001b[0maxis\u001b[0m\u001b[0;34m=\u001b[0m\u001b[0maxis\u001b[0m\u001b[0;34m)\u001b[0m\u001b[0;34m\u001b[0m\u001b[0m\n\u001b[0m\u001b[1;32m    142\u001b[0m \u001b[0;34m\u001b[0m\u001b[0m\n\u001b[1;32m    143\u001b[0m     \u001b[0;32mdef\u001b[0m \u001b[0m_get_loc\u001b[0m\u001b[0;34m(\u001b[0m\u001b[0mself\u001b[0m\u001b[0;34m,\u001b[0m \u001b[0mkey\u001b[0m\u001b[0;34m,\u001b[0m \u001b[0maxis\u001b[0m\u001b[0;34m=\u001b[0m\u001b[0mNone\u001b[0m\u001b[0;34m)\u001b[0m\u001b[0;34m:\u001b[0m\u001b[0;34m\u001b[0m\u001b[0m\n",
      "\u001b[0;32m/Library/Frameworks/Python.framework/Versions/2.7/lib/python2.7/site-packages/pandas/core/generic.pyc\u001b[0m in \u001b[0;36mxs\u001b[0;34m(self, key, axis, level, drop_level)\u001b[0m\n\u001b[1;32m   3583\u001b[0m                                                       drop_level=drop_level)\n\u001b[1;32m   3584\u001b[0m         \u001b[0;32melse\u001b[0m\u001b[0;34m:\u001b[0m\u001b[0;34m\u001b[0m\u001b[0m\n\u001b[0;32m-> 3585\u001b[0;31m             \u001b[0mloc\u001b[0m \u001b[0;34m=\u001b[0m \u001b[0mself\u001b[0m\u001b[0;34m.\u001b[0m\u001b[0mindex\u001b[0m\u001b[0;34m.\u001b[0m\u001b[0mget_loc\u001b[0m\u001b[0;34m(\u001b[0m\u001b[0mkey\u001b[0m\u001b[0;34m)\u001b[0m\u001b[0;34m\u001b[0m\u001b[0m\n\u001b[0m\u001b[1;32m   3586\u001b[0m \u001b[0;34m\u001b[0m\u001b[0m\n\u001b[1;32m   3587\u001b[0m             \u001b[0;32mif\u001b[0m \u001b[0misinstance\u001b[0m\u001b[0;34m(\u001b[0m\u001b[0mloc\u001b[0m\u001b[0;34m,\u001b[0m \u001b[0mnp\u001b[0m\u001b[0;34m.\u001b[0m\u001b[0mndarray\u001b[0m\u001b[0;34m)\u001b[0m\u001b[0;34m:\u001b[0m\u001b[0;34m\u001b[0m\u001b[0m\n",
      "\u001b[0;32m/Library/Frameworks/Python.framework/Versions/2.7/lib/python2.7/site-packages/pandas/core/indexes/base.pyc\u001b[0m in \u001b[0;36mget_loc\u001b[0;34m(self, key, method, tolerance)\u001b[0m\n\u001b[1;32m   2657\u001b[0m                 \u001b[0;32mreturn\u001b[0m \u001b[0mself\u001b[0m\u001b[0;34m.\u001b[0m\u001b[0m_engine\u001b[0m\u001b[0;34m.\u001b[0m\u001b[0mget_loc\u001b[0m\u001b[0;34m(\u001b[0m\u001b[0mkey\u001b[0m\u001b[0;34m)\u001b[0m\u001b[0;34m\u001b[0m\u001b[0m\n\u001b[1;32m   2658\u001b[0m             \u001b[0;32mexcept\u001b[0m \u001b[0mKeyError\u001b[0m\u001b[0;34m:\u001b[0m\u001b[0;34m\u001b[0m\u001b[0m\n\u001b[0;32m-> 2659\u001b[0;31m                 \u001b[0;32mreturn\u001b[0m \u001b[0mself\u001b[0m\u001b[0;34m.\u001b[0m\u001b[0m_engine\u001b[0m\u001b[0;34m.\u001b[0m\u001b[0mget_loc\u001b[0m\u001b[0;34m(\u001b[0m\u001b[0mself\u001b[0m\u001b[0;34m.\u001b[0m\u001b[0m_maybe_cast_indexer\u001b[0m\u001b[0;34m(\u001b[0m\u001b[0mkey\u001b[0m\u001b[0;34m)\u001b[0m\u001b[0;34m)\u001b[0m\u001b[0;34m\u001b[0m\u001b[0m\n\u001b[0m\u001b[1;32m   2660\u001b[0m         \u001b[0mindexer\u001b[0m \u001b[0;34m=\u001b[0m \u001b[0mself\u001b[0m\u001b[0;34m.\u001b[0m\u001b[0mget_indexer\u001b[0m\u001b[0;34m(\u001b[0m\u001b[0;34m[\u001b[0m\u001b[0mkey\u001b[0m\u001b[0;34m]\u001b[0m\u001b[0;34m,\u001b[0m \u001b[0mmethod\u001b[0m\u001b[0;34m=\u001b[0m\u001b[0mmethod\u001b[0m\u001b[0;34m,\u001b[0m \u001b[0mtolerance\u001b[0m\u001b[0;34m=\u001b[0m\u001b[0mtolerance\u001b[0m\u001b[0;34m)\u001b[0m\u001b[0;34m\u001b[0m\u001b[0m\n\u001b[1;32m   2661\u001b[0m         \u001b[0;32mif\u001b[0m \u001b[0mindexer\u001b[0m\u001b[0;34m.\u001b[0m\u001b[0mndim\u001b[0m \u001b[0;34m>\u001b[0m \u001b[0;36m1\u001b[0m \u001b[0;32mor\u001b[0m \u001b[0mindexer\u001b[0m\u001b[0;34m.\u001b[0m\u001b[0msize\u001b[0m \u001b[0;34m>\u001b[0m \u001b[0;36m1\u001b[0m\u001b[0;34m:\u001b[0m\u001b[0;34m\u001b[0m\u001b[0m\n",
      "\u001b[0;32mpandas/_libs/index.pyx\u001b[0m in \u001b[0;36mpandas._libs.index.IndexEngine.get_loc\u001b[0;34m()\u001b[0m\n",
      "\u001b[0;32mpandas/_libs/index.pyx\u001b[0m in \u001b[0;36mpandas._libs.index.IndexEngine.get_loc\u001b[0;34m()\u001b[0m\n",
      "\u001b[0;32mpandas/_libs/hashtable_class_helper.pxi\u001b[0m in \u001b[0;36mpandas._libs.hashtable.PyObjectHashTable.get_item\u001b[0;34m()\u001b[0m\n",
      "\u001b[0;32mpandas/_libs/hashtable_class_helper.pxi\u001b[0m in \u001b[0;36mpandas._libs.hashtable.PyObjectHashTable.get_item\u001b[0;34m()\u001b[0m\n",
      "\u001b[0;31mKeyError\u001b[0m: 4"
     ]
    }
   ],
   "source": [
    "df2.loc[4,'blurb']"
   ]
  },
  {
   "cell_type": "code",
   "execution_count": 3,
   "metadata": {},
   "outputs": [
    {
     "ename": "NameError",
     "evalue": "name 'df' is not defined",
     "output_type": "error",
     "traceback": [
      "\u001b[0;31m---------------------------------------------------------------------------\u001b[0m",
      "\u001b[0;31mNameError\u001b[0m                                 Traceback (most recent call last)",
      "\u001b[0;32m<ipython-input-3-5a6826409e02>\u001b[0m in \u001b[0;36m<module>\u001b[0;34m()\u001b[0m\n\u001b[0;32m----> 1\u001b[0;31m \u001b[0mdf\u001b[0m \u001b[0;34m=\u001b[0m \u001b[0mdf\u001b[0m\u001b[0;34m[\u001b[0m\u001b[0mdf\u001b[0m\u001b[0;34m.\u001b[0m\u001b[0mstatus\u001b[0m \u001b[0;34m!=\u001b[0m \u001b[0;34m'live'\u001b[0m\u001b[0;34m]\u001b[0m\u001b[0;34m\u001b[0m\u001b[0m\n\u001b[0m",
      "\u001b[0;31mNameError\u001b[0m: name 'df' is not defined"
     ]
    }
   ],
   "source": [
    "df = df[df.status != 'live']"
   ]
  },
  {
   "cell_type": "code",
   "execution_count": null,
   "metadata": {},
   "outputs": [],
   "source": [
    "df.loc[df.status == 'canceled','status'] = 'failed'\n",
    "df.loc[df.status == 'suspended','status'] = 'failed'\n"
   ]
  },
  {
   "cell_type": "code",
   "execution_count": null,
   "metadata": {},
   "outputs": [],
   "source": [
    "df['status'] = df['status'].replace({'successful':1,'failed':0})"
   ]
  },
  {
   "cell_type": "code",
   "execution_count": null,
   "metadata": {},
   "outputs": [],
   "source": [
    "#nltk.download('punkt')\n",
    "#nltk.download('wordnet')\n",
    "#nltk.download('averaged_perceptron_tagger')\n",
    "#nltk.download('stopwords')\n",
    "df.reset_index(drop=True,inplace=True)\n",
    "df\n"
   ]
  },
  {
   "cell_type": "code",
   "execution_count": null,
   "metadata": {},
   "outputs": [],
   "source": [
    "df['blurb'] = [str(entry).lower() for entry in df['blurb']]\n",
    "df['blurb'] = [word_tokenize(entry) for entry in df['blurb']]\n",
    "df['blurb']\n",
    "# with open('./mapkickstarter/MasterKickstarter.csv','r') as csv_file:\n",
    "#     csv_reader = csv.reader(csv_file,delimiter=',')\n",
    "#     next(csv_reader)\n",
    "#     with open('output.csv','a') as out:\n",
    "#         csv_writer = csv.writer(out,lineterminator='\\n')\n",
    "#         csv_writer.writerow('final_text')\n",
    "#         for lines in csv_reader:\n",
    "#             csv_writer.writerow(['test','test'])\n",
    "            \n"
   ]
  },
  {
   "cell_type": "code",
   "execution_count": null,
   "metadata": {},
   "outputs": [],
   "source": [
    "# WordNetLemmatizer requires Pos tags to understand if the word is \n",
    "# noun or verb or adjective etc. By default it is set to Noun\n",
    "# source: https://medium.com/@bedigunjit/simple-guide-to-text-classification-nlp-using-svm-and-naive-bayes-with-python-421db3a72d34\n",
    "tag_map = defaultdict(lambda : wn.NOUN)\n",
    "tag_map['J'] = wn.ADJ\n",
    "tag_map['V'] = wn.VERB\n",
    "tag_map['R'] = wn.ADV\n",
    "# with open('./mapkickstarter/modified.csv','r') as csv_file:\n",
    "#     csv_reader = csv.reader(csv_file,delimiter=',')\n",
    "#     next(csv_reader)\n",
    "#     with open('output.csv','a') as out:\n",
    "#         header = []\n",
    "#         csv_writer = csv.writer(out,lineterminator='\\n')\n",
    "#         header.append('final_text')\n",
    "#         csv_writer.writerow(header)\n",
    "#         for lines in csv_reader:\n",
    "#             Final_words = []\n",
    "#             word_Lemmatized = WordNetLemmatizer()\n",
    "#             for word, tag in pos_tag(lines[7]):\n",
    "#                 if word not in stopwords.words('english') and word.isalpha():\n",
    "#                     word_Final = word_Lemmatized.lemmatize(word,tag_map[tag[0]])\n",
    "#                     Final_words.append(word_Final)\n",
    "#             csv_writer.writerow(Final_words)\n",
    "\n",
    "for index,entry in enumerate(df['blurb']):\n",
    "    # Declaring Empty List to store the words that follow the rules for this step\n",
    "    Final_words = []\n",
    "    # Initializing WordNetLemmatizer()\n",
    "    word_Lemmatized = WordNetLemmatizer()\n",
    "    # pos_tag function below will provide the 'tag' i.e if the word is Noun(N) or Verb(V) or something else.\n",
    "    for word, tag in pos_tag(entry):\n",
    "        # Below condition is to check for Stop words and consider only alphabets\n",
    "        if word not in stopwords.words('english') and word.isalpha():\n",
    "            word_Final = word_Lemmatized.lemmatize(word,tag_map[tag[0]])\n",
    "            Final_words.append(word_Final)\n",
    "    # The final processed set of words for each iteration will be stored in 'text_final'\n",
    "    df.loc[index,'word_token'] = str(Final_words)\n",
    "    print('progress: ',index)"
   ]
  },
  {
   "cell_type": "code",
   "execution_count": null,
   "metadata": {},
   "outputs": [],
   "source": [
    "df['launched_at'] = pd.to_datetime(df['launched_at'],yearfirst=True)\n",
    "df['launched_at']"
   ]
  },
  {
   "cell_type": "code",
   "execution_count": null,
   "metadata": {},
   "outputs": [],
   "source": [
    "df['deadline'] = pd.to_datetime(df['deadline'],yearfirst=True)\n",
    "df['deadline']"
   ]
  },
  {
   "cell_type": "code",
   "execution_count": null,
   "metadata": {},
   "outputs": [],
   "source": [
    "df['deadline'] = (df['deadline'] - df['launched_at']).dt.days\n",
    "df['deadline']"
   ]
  },
  {
   "cell_type": "code",
   "execution_count": null,
   "metadata": {},
   "outputs": [],
   "source": [
    "df.to_csv('./mapkickstarter/modified_v2.csv',header = True, index=False)"
   ]
  },
  {
   "cell_type": "code",
   "execution_count": 2,
   "metadata": {},
   "outputs": [
    {
     "ename": "NameError",
     "evalue": "name 'df' is not defined",
     "output_type": "error",
     "traceback": [
      "\u001b[0;31m---------------------------------------------------------------------------\u001b[0m",
      "\u001b[0;31mNameError\u001b[0m                                 Traceback (most recent call last)",
      "\u001b[0;32m<ipython-input-2-30d376f31372>\u001b[0m in \u001b[0;36m<module>\u001b[0;34m()\u001b[0m\n\u001b[1;32m      1\u001b[0m \u001b[0;31m# 2\u001b[0m\u001b[0;34m\u001b[0m\u001b[0;34m\u001b[0m\u001b[0m\n\u001b[0;32m----> 2\u001b[0;31m \u001b[0mdf\u001b[0m\u001b[0;34m[\u001b[0m\u001b[0;34m'word_token'\u001b[0m\u001b[0;34m]\u001b[0m \u001b[0;34m=\u001b[0m \u001b[0mdf\u001b[0m\u001b[0;34m[\u001b[0m\u001b[0;34m'word_token'\u001b[0m\u001b[0;34m]\u001b[0m\u001b[0;34m.\u001b[0m\u001b[0mastype\u001b[0m\u001b[0;34m(\u001b[0m\u001b[0mstr\u001b[0m\u001b[0;34m)\u001b[0m\u001b[0;34m\u001b[0m\u001b[0m\n\u001b[0m",
      "\u001b[0;31mNameError\u001b[0m: name 'df' is not defined"
     ]
    }
   ],
   "source": [
    "# 2\n",
    "df['word_token'] = df['word_token'].astype(str)"
   ]
  },
  {
   "cell_type": "code",
   "execution_count": 8,
   "metadata": {},
   "outputs": [],
   "source": [
    "# 3\n",
    "df2 = df[['goal','Length_of_kick','status']]\n"
   ]
  },
  {
   "cell_type": "code",
   "execution_count": 9,
   "metadata": {},
   "outputs": [],
   "source": [
    "# 4\n",
    "tfidf_vect = TfidfVectorizer(max_features = 5000)\n",
    "tfidf_vect.fit(df['word_token'])\n",
    "x_tfidf = tfidf_vect.transform(df['word_token'])"
   ]
  },
  {
   "cell_type": "code",
   "execution_count": 10,
   "metadata": {},
   "outputs": [],
   "source": [
    "# 5\n",
    "df3 = pd.DataFrame(x_count)"
   ]
  },
  {
   "cell_type": "code",
   "execution_count": 11,
   "metadata": {},
   "outputs": [],
   "source": [
    "# 6\n",
    "df4 = pd.concat([df2,df3],axis=1)"
   ]
  },
  {
   "cell_type": "code",
   "execution_count": null,
   "metadata": {},
   "outputs": [],
   "source": []
  },
  {
   "cell_type": "code",
   "execution_count": 12,
   "metadata": {},
   "outputs": [],
   "source": [
    "x = df4[['goal','Length_of_kick']].values\n",
    "y = df4['status'].values\n",
    "x_train, x_test, y_train, y_test = train_test_split(x,y, test_size = 0.2)"
   ]
  },
  {
   "cell_type": "code",
   "execution_count": 13,
   "metadata": {},
   "outputs": [],
   "source": [
    "# 7\n",
    "x_1 = df4[['goal']].values\n",
    "x_2 = df4[['Length_of_kick']].values\n",
    "y = df4[['status']].values"
   ]
  },
  {
   "cell_type": "code",
   "execution_count": 14,
   "metadata": {},
   "outputs": [],
   "source": [
    "# 8\n",
    "training_data = sparse.hstack((x_count,x_1,x_2))"
   ]
  },
  {
   "cell_type": "code",
   "execution_count": 15,
   "metadata": {},
   "outputs": [],
   "source": [
    "# 9\n",
    "training_data.data = np.nan_to_num(training_data.data)"
   ]
  },
  {
   "cell_type": "code",
   "execution_count": 16,
   "metadata": {},
   "outputs": [
    {
     "data": {
      "text/plain": [
       "(1017781,)"
      ]
     },
     "execution_count": 16,
     "metadata": {},
     "output_type": "execute_result"
    }
   ],
   "source": [
    "training_data.data.shape"
   ]
  },
  {
   "cell_type": "code",
   "execution_count": 17,
   "metadata": {},
   "outputs": [],
   "source": [
    "# 10\n",
    "training_data.eliminate_zeros()"
   ]
  },
  {
   "cell_type": "code",
   "execution_count": 18,
   "metadata": {},
   "outputs": [
    {
     "data": {
      "text/plain": [
       "(1017711,)"
      ]
     },
     "execution_count": 18,
     "metadata": {},
     "output_type": "execute_result"
    }
   ],
   "source": [
    "training_data.data.shape"
   ]
  },
  {
   "cell_type": "code",
   "execution_count": 19,
   "metadata": {},
   "outputs": [],
   "source": [
    "# 11\n",
    "x_train, x_test, y_train, y_test = train_test_split(training_data,y,test_size =0.2)"
   ]
  },
  {
   "cell_type": "code",
   "execution_count": null,
   "metadata": {},
   "outputs": [],
   "source": [
    "SVM\n",
    "clf = svm.SVC()\n",
    "clf.fit(training_data,y)\n",
    "predicted = clf.predict(training_data)\n",
    "print(predicted)\n",
    "\n",
    "tn, fp, fn, tp = metrics.confusion_matrix(y, predicted).ravel()\n",
    "print(\"tn fp fn tp\")\n",
    "print(tn, fp, fn, tp)\n",
    "print(\"recall: \", (tp/(tp+fn)))\n",
    "print(\"precise: \", (tp/(tp+fp)))\n",
    "print(clf.score(x_test, y_test))\n"
   ]
  },
  {
   "cell_type": "code",
   "execution_count": 20,
   "metadata": {},
   "outputs": [
    {
     "name": "stderr",
     "output_type": "stream",
     "text": [
      "/Library/Frameworks/Python.framework/Versions/2.7/lib/python2.7/site-packages/sklearn/neural_network/multilayer_perceptron.py:916: DataConversionWarning: A column-vector y was passed when a 1d array was expected. Please change the shape of y to (n_samples, ), for example using ravel().\n",
      "  y = column_or_1d(y, warn=True)\n"
     ]
    },
    {
     "data": {
      "text/plain": [
       "MLPClassifier(activation='logistic', alpha=0.0001, batch_size='auto',\n",
       "       beta_1=0.9, beta_2=0.999, early_stopping=False, epsilon=1e-08,\n",
       "       hidden_layer_sizes=100, learning_rate='constant',\n",
       "       learning_rate_init=0.001, max_iter=200, momentum=0.9,\n",
       "       n_iter_no_change=10, nesterovs_momentum=True, power_t=0.5,\n",
       "       random_state=None, shuffle=True, solver='adam', tol=0.0001,\n",
       "       validation_fraction=0.1, verbose=False, warm_start=False)"
      ]
     },
     "execution_count": 20,
     "metadata": {},
     "output_type": "execute_result"
    }
   ],
   "source": [
    "# neural network\n",
    "from sklearn.neural_network import MLPClassifier\n",
    "mlp = MLPClassifier(hidden_layer_sizes=(300,150,150),activation='relu')\n",
    "mlp.fit(x_train,y_train)"
   ]
  },
  {
   "cell_type": "code",
   "execution_count": 21,
   "metadata": {},
   "outputs": [
    {
     "name": "stdout",
     "output_type": "stream",
     "text": [
      "[[0.58912879 0.41087121]\n",
      " [0.58912884 0.41087116]\n",
      " [0.58912879 0.41087121]\n",
      " ...\n",
      " [0.58912879 0.41087121]\n",
      " [0.58912879 0.41087121]\n",
      " [0.58912879 0.41087121]]\n"
     ]
    }
   ],
   "source": [
    "# predicted = (mlp.predict_proba(x_test)[:,1] >= 0.415).astype(int)\n",
    "predicted = mlp.predict_proba(x_test)\n",
    "print(predicted)\n",
    "# tn, fp, fn, tp = metrics.confusion_matrix(y_test, predicted).ravel()\n",
    "# print(\"tn fp fn tp\")\n",
    "# print(tn, fp, fn, tp)\n",
    "# print(\"recall: \", (tp/(tp+fn)))\n",
    "# print(\"precise: \", (tp/(tp+fp)))\n",
    "# print(mlp.score(x_test, y_test))"
   ]
  },
  {
   "cell_type": "code",
   "execution_count": 31,
   "metadata": {},
   "outputs": [],
   "source": [
    "file_name = 'mlp_model.sav'\n",
    "pickle.dump(mlp,open(file_name,'wb'))"
   ]
  },
  {
   "cell_type": "code",
   "execution_count": 22,
   "metadata": {},
   "outputs": [
    {
     "name": "stdout",
     "output_type": "stream",
     "text": [
      "{u'cycling': 1088, u'opener': 3114, u'wooden': 4942, u'undead': 4680, u'cooking': 973, u'china': 756, u'uplifting': 4725, u'golden': 1930, u'projection': 3496, u'dna': 1282, u'catchy': 694, u'music': 2951, u'titanium': 4535, u'want': 4839, u'absolute': 7, u'travel': 4606, u'wrong': 4972, u'fit': 1731, u'songwriter': 4166, u'mason': 2749, u'encourage': 1467, u'adapt': 50, u'gameplay': 1864, u'specially': 4197, u'service': 3998, u'master': 2752, u'genesis': 1890, u'task': 4422, u'positively': 3395, u'feeling': 1681, u'spectrum': 4203, u'dozen': 1316, u'wholesome': 4898, u'mostly': 2921, u'cinematic': 777, u'simplify': 4075, u'mouth': 2933, u'singer': 4083, u'tech': 4438, u'scream': 3933, u'orleans': 3145, u'rick': 3793, u'rich': 3790, u'rice': 3789, u'plate': 3335, u'patch': 3221, u'heirloom': 2082, u'extend': 1611, u'nature': 2985, u'angel': 178, u'union': 4693, u'much': 2938, u'fry': 1829, u'dave': 1118, u'spin': 4213, u'professionally': 3484, u'employ': 1453, u'miniature': 2856, u'recover': 3656, u'split': 4220, u'academic': 13, u'corporate': 987, u'beloved': 439, u'hat': 2056, u'survival': 4369, u'shadow': 4013, u'alice': 124, u'crowd': 1045, u'crown': 1047, u'billboard': 463, u'bottom': 517, u'fabric': 1624, u'wordpress': 4945, u'greatness': 1972, u'duet': 1350, u'passenger': 3214, u'mirror': 2869, u'role': 3825, u'sunset': 4347, u'transgender': 4595, u'roll': 3828, u'intend': 2323, u'intent': 2326, u'decision': 1140, u'cincinnati': 775, u'chain': 714, u'tampa': 4412, u'chair': 715, u'ballet': 376, u'freelance': 1810, u'choice': 760, u'embark': 1438, u'exact': 1564, u'minute': 2867, u'cooky': 974, u'patient': 3226, u'headset': 2064, u'boost': 506, u'address': 60, u'engineer': 1484, u'instal': 2304, u'nevada': 3012, u'originally': 3143, u'mythos': 2966, u'matt': 2762, u'conscious': 930, u'manga': 2714, u'publish': 3542, u'jim': 2418, u'troubled': 4629, u'abusive': 12, u'civilian': 785, u'indigenous': 2256, u'fisherman': 1729, u'quarter': 3571, u'quartet': 3573, u'sponsor': 4222, u'seriously': 3995, u'trauma': 4604, u'internet': 2340, u'aboard': 5, u'emotion': 1447, u'saving': 3901, u'spoken': 4221, u'one': 3109, u'periodical': 3264, u'opponent': 3120, u'illness': 2205, u'invite': 2367, u'fashionable': 1661, u'zoo': 4999, u'printer': 3463, u'opposite': 3122, u'immigration': 2224, u'printed': 3462, u'phil': 3282, u'vision': 4803, u'interpretation': 2342, u'workplace': 4951, u'fix': 1734, u'west': 4884, u'former': 1786, u'cure': 1068, u'newspaper': 3017, u'situation': 4092, u'visually': 4809, u'defy': 1158, u'tracking': 4575, u'dimension': 1237, u'being': 433, u'recycled': 3662, u'generator': 1888, u'traffic': 4580, u'world': 4953, u'divine': 1278, u'leadership': 2547, u'luxurious': 2676, u'lively': 2620, u'brazilian': 541, u'bubble': 581, u'pull': 3546, u'rush': 3858, u'rage': 3599, u'dirty': 1247, u'pulp': 3547, u'cream': 1024, u'yoga': 4984, u'puppy': 3555, u'external': 1615, u'sci': 3923, u'ceramic': 711, u'midwest': 2838, u'sand': 3884, u'small': 4122, u'past': 3218, u'pass': 3213, u'investment': 2363, u'clock': 807, u'full': 1835, u'november': 3059, u'experience': 1593, u'follower': 1765, u'door': 1303, u'learn': 2551, u'huge': 2169, u'scifi': 3927, u'paper': 3192, u'scott': 3930, u'sauce': 3897, u'entire': 1506, u'gadget': 1858, u'ft': 1830, u'operation': 3118, u'research': 3738, u'definition': 1156, u'testament': 4468, u'preservation': 3439, u'swipe': 4384, u'saint': 3874, u'graffiti': 1954, u'sell': 3975, u'self': 3972, u'also': 141, u'virus': 4800, u'sometimes': 4162, u'barrel': 390, u'cassette': 685, u'removable': 3714, u'insane': 2290, u'professional': 3483, u'analog': 169, u'shower': 4052, u'thrive': 4511, u'last': 2525, u'connection': 926, u'bell': 437, u'adaptation': 51, u'belt': 440, u'satire': 3893, u'awake': 343, u'despite': 1198, u'budget': 586, u'vol': 4818, u'cuisine': 1057, u'implement': 2227, u'infamous': 2265, u'tin': 4529, u'lady': 2510, u'emergency': 1444, u'couple': 1004, u'chorus': 765, u'bounce': 519, u'contributor': 959, u'katie': 2459, u'span': 4190, u'tasting': 4424, u'sock': 4146, u'hawaiian': 2060, u'atlantic': 297, u'haunt': 2058, u'diverse': 1275, u'chat': 739, u'handcraft': 2028, u'hymn': 2185, u'lane': 2517, u'land': 2513, u'beverage': 452, u'kansa': 2455, u'video': 4780, u'haiku': 2017, u'victor': 4777, u'business': 606, u'multimedia': 2942, u'survey': 4368, u'derby': 1185, u'maker': 2704, u'thats': 4478, u'confidence': 919, u'pencil': 3245, u'babe': 354, u'baby': 355, u'customer': 1076, u'emerge': 1443, u'process': 3474, u'lock': 2629, u'promotional': 3503, u'bilingual': 461, u'comedy': 862, u'intelligent': 2322, u'greatly': 1971, u'democracy': 1172, u'robot': 3815, u'houston': 2162, u'insight': 2296, u'perfect': 3256, u'orchestral': 3131, u'snake': 4136, u'realize': 3634, u'scenic': 3917, u'bigfoot': 459, u'witness': 4932, u'boutique': 524, u'could': 998, u'area': 242, u'length': 2569, u'scene': 3916, u'scent': 3918, u'festival': 1690, u'enforcement': 1479, u'info': 2271, u'depict': 1179, u'worldwide': 4954, u'placement': 3325, u'brew': 554, u'jay': 2404, u'jar': 2401, u'jam': 2394, u'tape': 4418, u'hire': 2111, u'rapper': 3612, u'stuff': 4313, u'ohio': 3102, u'frame': 1802, u'dungeon': 1351, u'destiny': 1202, u'pulse': 3548, u'destine': 1201, u'entitle': 1508, u'podcasts': 3356, u'country': 1002, u'edgar': 1392, u'vocabulary': 4813, u'spell': 4207, u'identity': 2195, u'diabetes': 1220, u'audio': 314, u'web': 4868, u'wet': 4886, u'photo': 3289, u'emma': 1446, u'become': 421, u'immortal': 2225, u'recognition': 3651, u'passion': 3215, u'pressure': 3445, u'imaginary': 2215, u'lifestyle': 2587, u'documentary': 1288, u'rhythmic': 3788, u'roam': 3809, u'excitement': 1574, u'problem': 3472, u'deadly': 1126, u'illusion': 2207, u'repeat': 3724, u'worker': 4948, u'exposure': 1606, u'compete': 888, u'magnetic': 2694, u'worth': 4957, u'panda': 3189, u'bipolar': 469, u'protection': 3516, u'sarah': 3890, u'plot': 3349, u'era': 1525, u'recovery': 3657, u'provide': 3527, u'memorial': 2801, u'workbook': 4947, u'appreciate': 227, u'innovative': 2288, u'production': 3480, u'coffee': 830, u'safe': 3867, u'collide': 845, u'roommate': 3837, u'lifelong': 2586, u'train': 4586, u'daniel': 1105, u'barrier': 391, u'soundcloud': 4178, u'refugee': 3676, u'render': 3717, u'another': 196, u'electronic': 1421, u'illustrate': 2208, u'guilt': 2005, u'historical': 2113, u'prototyping': 3522, u'convenient': 964, u'pilgrimage': 3310, u'nobody': 3033, u'bruce': 578, u'germany': 1901, u'grave': 1967, u'reserve': 3740, u'lewis': 2578, u'away': 349, u'drawn': 1326, u'kitchen': 2490, u'climate': 804, u'modular': 2894, u'tone': 4549, u'vast': 4755, u'tony': 4550, u'gratitude': 1966, u'excite': 1572, u'ahead': 98, u'sculpt': 3941, u'wheel': 4889, u'hang': 2034, u'hand': 2025, u'fuse': 1852, u'vermont': 4764, u'humble': 2172, u'client': 803, u'musical': 2952, u'uniquely': 4695, u'thanks': 4477, u'boot': 507, u'josh': 2435, u'wright': 4967, u'cooler': 976, u'night': 3023, u'born': 512, u'hassle': 2055, u'bore': 510, u'adorable': 65, u'participation': 3210, u'peek': 3242, u'architectural': 237, u'peer': 3243, u'stumble': 4315, u'deception': 1138, u'conservation': 933, u'boom': 505, u'catalyst': 692, u'maximum': 2768, u'alaskan': 113, u'prayer': 3420, u'test': 4467, u'update': 4721, u'improvisation': 2237, u'concept': 909, u'supplement': 4356, u'battle': 406, u'gun': 2008, u'gut': 2009, u'guy': 2010, u'cost': 994, u'teacher': 4433, u'pillow': 3311, u'regardless': 3680, u'extra': 1616, u'captivate': 660, u'trans': 4589, u'chip': 758, u'occur': 3086, u'discussion': 1260, u'lounge': 2653, u'economy': 1387, u'product': 3479, u'produce': 3477, u'brain': 534, u'still': 4273, u'non': 3037, u'introduce': 2350, u'wealthy': 4862, u'drop': 1337, u'yeah': 4977, u'year': 4978, u'fa': 1622, u'deck': 1141, u'transition': 4596, u'invitation': 2366, u'support': 4358, u'blind': 484, u'fi': 1691, u'ring': 3800, u'tomorrow': 4547, u'recruit': 3660, u'equipment': 1524, u'importantly': 2230, u'america': 158, u'highlight': 2102, u'snack': 4135, u'stain': 4239, u'madness': 2686, u'actually': 47, u'elvis': 1435, u'equal': 1521, u'develop': 1212, u'foam': 1758, u'taxi': 4429, u'neon': 3005, u'death': 1132, u'verse': 4766, u'amy': 168, u'fortune': 1791, u'output': 3158, u'assembly': 285, u'sixth': 4094, u'innocence': 2284, u'assemble': 284, u'backup': 364, u'outlook': 3157, u'start': 4247, u'teamwork': 4436, u'podcast': 3355, u'illustrator': 2211, u'todd': 4539, u'poor': 3378, u'pool': 3377, u'since': 4081, u'month': 2908, u'thoughtful': 4502, u'religious': 3701, u'horror': 2151, u'decide': 1139, u'skate': 4097, u'instagram': 2303, u'bass': 399, u'dirt': 1246, u'learner': 2552, u'arena': 243, u'inspired': 2301, u'revelation': 3770, u'grill': 1982, u'partner': 3211, u'phrase': 3295, u'simple': 4073, u'utilize': 4742, u'anytime': 210, u'evening': 1549, u'ninja': 3028, u'faire': 1637, u'fairy': 1638, u'heavy': 2079, u'mockumentary': 2889, u'miss': 2873, u'settle': 4002, u'safety': 3870, u'american': 159, u'apocalypse': 215, u'horse': 2152, u'collage': 836, u'station': 4253, u'hundred': 2175, u'grey': 1979, u'greg': 1978, u'toward': 4566, u'charlotte': 734, u'cave': 699, u'steam': 4259, u'rechargeable': 3647, u'justice': 2453, u'grocery': 1987, u'culture': 1064, u'portrait': 3390, u'spray': 4227, u'kindle': 2483, u'league': 2549, u'forgotten': 1783, u'experimental': 1595, u'brewer': 555, u'threaten': 4506, u'empty': 1460, u'redemption': 3665, u'intriguing': 2349, u'pace': 3173, u'guide': 2002, u'pack': 3176, u'grant': 1961, u'sensual': 3986, u'grand': 1958, u'composition': 902, u'lie': 2584, u'speculative': 4204, u'showing': 4053, u'multicultural': 2941, u'popular': 3380, u'sketch': 4100, u'economic': 1386, u'quote': 3587, u'working': 4949, u'angry': 182, u'silence': 4063, u'chronicle': 771, u'mobile': 2887, u'similar': 4071, u'application': 224, u'department': 1177, u'manhattan': 2715, u'dvd': 1359, u'everywhere': 1558, u'compact': 880, u'friendly': 1819, u'wave': 4857, u'telling': 4450, u'michael': 2829, u'ryan': 3862, u'jump': 2448, u'vampire': 4751, u'convert': 967, u'clark': 789, u'manage': 2711, u'camera': 633, u'visibility': 4801, u'charming': 736, u'meet': 2790, u'filament': 1704, u'farm': 1656, u'costume': 995, u'university': 4703, u'slide': 4116, u'bluetooth': 492, u'special': 4195, u'entertainment': 1504, u'armor': 249, u'cause': 698, u'darkly': 1110, u'innovate': 2286, u'natural': 2983, u'hiphop': 2110, u'gallery': 1862, u'indy': 2263, u'brighten': 563, u'achieve': 31, u'immigrant': 2223, u'nightmare': 3025, u'ken': 2467, u'keg': 2464, u'paranormal': 3200, u'controller': 961, u'surface': 4362, u'autism': 325, u'speaker': 4194, u'northwest': 3045, u'party': 3212, u'http': 2165, u'destruction': 1204, u'ashley': 274, u'distant': 1269, u'intersection': 2343, u'loss': 2647, u'lincoln': 2600, u'necessary': 2996, u'lost': 2648, u'lose': 2646, u'linux': 2603, u'library': 2582, u'home': 2130, u'previously': 3450, u'additional': 59, u'north': 3042, u'gain': 1859, u'display': 1266, u'marketplace': 2738, u'universal': 4701, u'star': 4245, u'stay': 4257, u'stag': 4237, u'foil': 1760, u'else': 1434, u'determination': 1209, u'buddy': 585, u'disability': 1248, u'swap': 4377, u'recycle': 3661, u'collaborate': 833, u'void': 4817, u'enhance': 1489, u'kidnap': 2477, u'men': 2804, u'disposable': 1267, u'intrigue': 2348, u'joshua': 2436, u'fantastic': 1652, u'mobility': 2888, u'berlin': 446, u'roof': 3835, u'root': 3838, u'january': 2398, u'amazing': 152, u'footwear': 1774, u'goodbye': 1935, u'operate': 3117, u'fable': 1623, u'position': 3393, u'personal': 3269, u'crew': 1036, u'combination': 856, u'ya': 4974, u'trading': 4577, u'temporary': 4453, u'cosmic': 992, u'bicycle': 456, u'blue': 490, u'panel': 3190, u'marie': 2731, u'observation': 3078, u'liberty': 2581, u'northeast': 3043, u'earn': 1370, u'monumental': 2911, u'troop': 4627, u'enchant': 1464, u'artificial': 262, u'cousin': 1009, u'resistant': 3745, u'russia': 3859, u'basis': 397, u'tiny': 4531, u'commission': 873, u'trigger': 4620, u'interest': 2332, u'basic': 395, u'lovely': 2658, u'ugly': 4665, u'seven': 4004, u'cant': 648, u'disappear': 1251, u'finalize': 1712, u'evolve': 1562, u'renaissance': 3716, u'unicorn': 4692, u'yes': 4980, u'yet': 4982, u'royal': 3847, u'julie': 2446, u'strap': 4292, u'patience': 3225, u'nude': 3062, u'signal': 4060, u'dean': 1130, u'deal': 1128, u'deaf': 1127, u'elderly': 1415, u'dear': 1131, u'shakespeare': 4015, u'appointment': 226, u'magazine': 2689, u'selfie': 3973, u'editor': 1398, u'starve': 4250, u'creation': 1026, u'batman': 404, u'landing': 2514, u'feminine': 1687, u'whiskey': 4895, u'result': 3758, u'journey': 2440, u'weekend': 4876, u'jacket': 2389, u'father': 1666, u'civilization': 786, u'round': 3843, u'international': 2338, u'box': 527, u'boy': 529, u'bos': 513, u'bot': 515, u'bow': 525, u'addictive': 57, u'bob': 495, u'teenage': 4445, u'visit': 4805, u'making': 2707, u'sample': 3882, u'irreverent': 2380, u'membership': 2797, u'solder': 4153, u'police': 3368, u'monitor': 2902, u'interesting': 2334, u'soulful': 4176, u'lunch': 2671, u'showcasing': 4051, u'locate': 2627, u'multiplayer': 2943, u'carnival': 672, u'funky': 1848, u'first': 1727, u'rachel': 3590, u'meme': 2798, u'sizzle': 4096, u'pastry': 3219, u'nazi': 2989, u'kevin': 2469, u'squad': 4231, u'performance': 3260, u'jungle': 2450, u'sunglass': 4346, u'voodoo': 4821, u'enthusiast': 1505, u'treasure': 4608, u'spirituality': 4218, u'get': 1903, u'gem': 1883, u'morning': 2917, u'seat': 3955, u'sean': 3951, u'seal': 3948, u'stigma': 4272, u'wonder': 4938, u'label': 2506, u'enough': 1495, u'across': 35, u'august': 319, u'tour': 4562, u'improv': 2233, u'among': 162, u'consider': 935, u'capable': 653, u'dramatic': 1322, u'wake': 4830, u'hardcore': 2040, u'sound': 4177, u'novella': 3058, u'strain': 4288, u'protein': 3519, u'extended': 1612, u'assist': 287, u'companion': 881, u'outdoor': 3151, u'unofficial': 4710, u'flavor': 1743, u'passionate': 3216, u'draw': 1324, u'knife': 2493, u'coupon': 1005, u'skilled': 4104, u'harness': 2047, u'strip': 4304, u'structure': 4308, u'spicy': 4210, u'spice': 4209, u'examine': 1566, u'saturday': 3896, u'founder': 1797, u'grassroots': 1964, u'gb': 1879, u'zero': 4992, u'perspective': 3274, u'spotlight': 4226, u'masterpiece': 2755, u'specialize': 4196, u'wizard': 4934, u'africa': 88, u'hour': 2158, u'remain': 3703, u'titan': 4534, u'collision': 846, u'minimum': 2859, u'robinson': 3814, u'biography': 468, u'technology': 4441, u'comfort': 863, u'sacred': 3864, u'stir': 4275, u'kitty': 2492, u'coming': 867, u'dragon': 1320, u'facebook': 1628, u'heartfelt': 2075, u'comedic': 861, u'researcher': 3739, u'socially': 4144, u'primary': 3455, u'mystery': 2959, u'micro': 2831, u'engaging': 1482, u'portland': 3389, u'beginning': 430, u'valentine': 4747, u'fiction': 1693, u'razor': 3622, u'bay': 407, u'fort': 1788, u'toe': 4541, u'couch': 997, u'chart': 737, u'charm': 735, u'express': 1607, u'breast': 548, u'expert': 1596, u'restaurant': 3755, u'foreign': 1777, u'baltimore': 378, u'point': 3363, u'tennessee': 4455, u'expensive': 1592, u'politician': 3372, u'century': 710, u'vacuum': 4746, u'shape': 4017, u'alternative': 145, u'cut': 1081, u'cup': 1065, u'source': 4181, u'knock': 2496, u'candle': 645, u'manipulate': 2717, u'epic': 1517, u'retailer': 3760, u'translate': 4597, u'motivational': 2927, u'remastered': 3706, u'planet': 3330, u'constant': 940, u'cafe': 622, u'restoration': 3756, u'cater': 696, u'entertaining': 1503, u'amplifier': 165, u'compose': 900, u'literary': 2616, u'dessert': 1199, u'access': 18, u'currently': 1072, u'healing': 2066, u'safer': 3869, u'talent': 4408, u'climb': 805, u'honor': 2139, u'control': 960, u'composer': 901, u'fan': 1649, u'profile': 3486, u'amazon': 154, u'galaxy': 1861, u'cider': 774, u'flair': 1737, u'sexual': 4008, u'que': 3574, u'yard': 4975, u'mortar': 2919, u'skateboard': 4098, u'yarn': 4976, u'mortal': 2918, u'guidebook': 2003, u'programmable': 3490, u'acquire': 34, u'heroic': 2094, u'incentive': 2240, u'prisoner': 3466, u'payment': 3233, u'disease': 1261, u'occasion': 3083, u'knowledge': 2498, u'perfection': 3257, u'boundary': 521, u'joke': 2428, u'denim': 1175, u'johnny': 2424, u'productivity': 3482, u'auto': 327, u'builder': 590, u'front': 1824, u'flashlight': 1741, u'smart': 4123, u'like': 2594, u'success': 4328, u'vibrant': 4774, u'classical': 793, u'hail': 2018, u'hair': 2019, u'hurricane': 2180, u'justin': 2454, u'female': 1686, u'quickly': 3580, u'development': 1214, u'sequel': 3990, u'versatile': 4765, u'flip': 1747, u'circus': 781, u'mash': 2746, u'corporation': 988, u'detail': 1205, u'sandy': 3887, u'bank': 384, u'school': 3922, u'loneliness': 2635, u'informative': 2275, u'direct': 1242, u'nail': 2968, u'hide': 2100, u'tx': 4658, u'luggage': 2667, u'culminate': 1059, u'pyramid': 3566, u'tn': 4537, u'would': 4959, u'princess': 3459, u'excellent': 1568, u'estate': 1538, u'keep': 2461, u'attract': 308, u'drummer': 1340, u'theatre': 4480, u'elizabeth': 1433, u'salsa': 3879, u'parallel': 3199, u'upside': 4730, u'breakout': 545, u'artprize': 269, u'iowa': 2372, u'rental': 3722, u'alex': 120, u'cable': 620, u'detroit': 1211, u'brings': 566, u'psychic': 3534, u'newly': 3015, u'independence': 2249, u'associate': 290, u'harry': 2051, u'mastering': 2754, u'filter': 1710, u'soda': 4147, u'durable': 1355, u'artistry': 267, u'encouraging': 1469, u'lovable': 2654, u'fantasy': 1654, u'attach': 300, u'beard': 414, u'bridge': 560, u'brandon': 537, u'cap': 651, u'jean': 2407, u'minnesota': 2864, u'photograph': 3291, u'wedding': 4873, u'feline': 1682, u'grandmother': 1960, u'mug': 2939, u'discovers': 1257, u'hopefully': 2145, u'enlighten': 1493, u'discovery': 1258, u'however': 2164, u'news': 3016, u'quite': 3586, u'expense': 1591, u'exhibit': 1580, u'conference': 918, u'teenager': 4446, u'kinetic': 2485, u'youth': 4987, u'ocean': 3087, u'judge': 2443, u'grader': 1952, u'cherry': 747, u'orlando': 3144, u'election': 1416, u'officer': 3096, u'dinner': 1240, u'ensure': 1498, u'amateur': 150, u'automate': 330, u'stereo': 4266, u'nerdy': 3007, u'zodiac': 4996, u'setting': 4001, u'doorstep': 1304, u'company': 882, u'picture': 3305, u'football': 1772, u'faster': 1663, u'vietnam': 4781, u'ron': 3834, u'rod': 3823, u'row': 3846, u'level': 2577, u'trend': 4613, u'port': 3384, u'entertain': 1501, u'witch': 4929, u'winner': 4919, u'durham': 1356, u'prompt': 3504, u'crisis': 1039, u'andy': 177, u'prep': 3432, u'today': 4538, u'chapter': 725, u'casey': 683, u'figure': 1703, u'fourth': 1800, u'michigan': 2830, u'inform': 2272, u'reaper': 3637, u'representation': 3730, u'butter': 610, u'sassy': 3892, u'platform': 3336, u'farmer': 1657, u'bath': 402, u'eagle': 1366, u'turn': 4643, u'transform': 4592, u'virgin': 4796, u'hardwood': 2044, u'orphan': 3146, u'suspense': 4372, u'wanderer': 4838, u'animation': 186, u'surf': 4361, u'roleplaying': 3827, u'sure': 4360, u'donation': 1298, u'icon': 2189, u'shooter': 4040, u'cheap': 740, u'jazz': 2405, u'joker': 2429, u'guitar': 2006, u'quiet': 3581, u'contract': 956, u'period': 3263, u'nicole': 3022, u'featuring': 1675, u'direction': 1243, u'silk': 4067, u'spirit': 4216, u'case': 682, u'cash': 684, u'cast': 686, u'participant': 3208, u'author': 323, u'status': 4256, u'weed': 4874, u'director': 1245, u'statue': 4255, u'lucky': 2665, u'without': 4931, u'polish': 3370, u'feminist': 1688, u'towel': 4568, u'patrick': 3227, u'tower': 4569, u'simulator': 4078, u'soy': 4186, u'mood': 2912, u'moon': 2913, u'tribe': 4616, u'mischief': 2871, u'grass': 1963, u'taste': 4423, u'tasty': 4425, u'carnegie': 671, u'intimacy': 2345, u'wifi': 4904, u'meditation': 2788, u'glimpse': 1913, u'apartment': 214, u'rob': 3811, u'incorporate': 2245, u'focus': 1759, u'list': 2609, u'lisa': 2608, u'invention': 2356, u'sun': 4344, u'version': 4767, u'christian': 768, u'tragedy': 4582, u'flat': 1742, u'israel': 2382, u'immersion': 2221, u'flag': 1736, u'rather': 3617, u'lighting': 2591, u'adventure': 71, u'short': 4044, u'shore': 4043, u'milwaukee': 2850, u'avenue': 337, u'soccer': 4142, u'hunter': 2179, u'adventurous': 73, u'mastered': 2753, u'weight': 4878, u'alcohol': 116, u'hill': 2107, u'friday': 1816, u'guess': 1999, u'guest': 2000, u'fantastical': 1653, u'introduction': 2351, u'traveler': 4607, u'silicone': 4066, u'story': 4283, u'storm': 4282, u'fidget': 1696, u'king': 2486, u'kind': 2482, u'motivation': 2926, u'storytelling': 4286, u'wilson': 4912, u'electric': 1417, u'traditional': 4579, u'reprint': 3731, u'adulthood': 67, u'skill': 4103, u'visualize': 4808, u'cosplay': 993, u'solo': 4157, u'sole': 4155, u'sweet': 4380, u'sweep': 4379, u'village': 4787, u'flight': 1746, u'precision': 3424, u'demand': 1170, u'frozen': 1826, u'nate': 2976, u'sonic': 4168, u'bluegrass': 491, u'demon': 1173, u'obstacle': 3081, u'shirt': 4036, u'unseen': 4715, u'continent': 953, u'internal': 2337, u'advocate': 78, u'confront': 922, u'collect': 838, u'retro': 3764, u'zombie': 4997, u'range': 3608, u'lone': 2634, u'long': 2637, u'etch': 1541, u'twitter': 4656, u'instantly': 2309, u'rally': 3605, u'rainbow': 3603, u'peace': 3236, u'nick': 3021, u'nice': 3019, u'meaning': 2778, u'buffalo': 587, u'alien': 125, u'gang': 1868, u'gold': 1929, u'include': 2242, u'mainstream': 2700, u'wrestling': 4966, u'fold': 1761, u'reunion': 3766, u'folk': 1762, u'degree': 1159, u'explore': 1600, u'survivor': 4371, u'writer': 4970, u'app': 217, u'offset': 3099, u'frog': 1823, u'clever': 801, u'factor': 1632, u'autobiography': 329, u'provoke': 3530, u'syndrome': 4392, u'toddler': 4540, u'wrist': 4968, u'psychedelic': 3533, u'superior': 4352, u'vital': 4811, u'holiday': 2123, u'enemy': 1476, u'ambition': 156, u'edit': 1395, u'out': 3149, u'chaos': 723, u'organic': 3136, u'museum': 2949, u'unknown': 4704, u'clip': 806, u'collaboration': 834, u'pipe': 3317, u'fear': 1671, u'feat': 1673, u'cube': 1056, u'cuba': 1054, u'progressive': 3494, u'favor': 1667, u'limit': 2598, u'ability': 3, u'opening': 3115, u'joy': 2441, u'job': 2420, u'joe': 2421, u'april': 233, u'tactical': 4402, u'rpg': 3848, u'tangible': 4413, u'stunning': 4317, u'fingertip': 1720, u'lonely': 2636, u'lightweight': 2593, u'present': 3437, u'slave': 4110, u'promo': 3500, u'usage': 4734, u'press': 3443, u'redesign': 3666, u'employment': 1456, u'jeremy': 2409, u'rare': 3613, u'carrier': 676, u'wilderness': 4906, u'weather': 4866, u'promise': 3499, u'transfer': 4591, u'spiral': 4215, u'aircraft': 103, u'volume': 4819, u'cake': 624, u'issue': 2383, u'horrific': 2150, u'incredible': 2247, u'incredibly': 2248, u'conclusion': 914, u'complicate': 898, u'yellow': 4979, u'electricity': 1419, u'regional': 3683, u'prize': 3469, u'reliable': 3697, u'miller': 2848, u'captain': 659, u'substance': 4324, u'webseries': 4870, u'military': 2843, u'divide': 1277, u'relax': 3694, u'successful': 4329, u'famed': 1645, u'blade': 477, u'foodie': 1768, u'household': 2160, u'organizer': 3139, u'damage': 1097, u'machine': 2683, u'gaming': 1867, u'connects': 928, u'effective': 1405, u'wing': 4918, u'wind': 4914, u'wine': 4917, u'affect': 82, u'hidden': 2099, u'enrich': 1496, u'commemorate': 869, u'silver': 4069, u'financial': 1715, u'solution': 4158, u'sensory': 3985, u'ian': 2187, u'knit': 2495, u'ups': 4729, u'wash': 4849, u'lego': 2566, u'engagement': 1481, u'wisdom': 4925, u'outlaw': 3154, u'endure': 1475, u'acclaim': 23, u'responsible': 3753, u'even': 1548, u'letter': 2575, u'airship': 106, u'episode': 1519, u'professor': 3485, u'bomb': 498, u'asia': 275, u'menu': 2807, u'theme': 4483, u'ever': 1552, u'disaster': 1252, u'fair': 1636, u'fail': 1634, u'best': 447, u'conceptual': 910, u'pirate': 3318, u'preserve': 3440, u'never': 3013, u'carbon': 663, u'adapter': 52, u'adventurer': 72, u'canyon': 650, u'cardboard': 665, u'life': 2585, u'filmmaker': 1708, u'lift': 2589, u'child': 752, u'chill': 755, u'australia': 321, u'disguise': 1262, u'caregiver': 669, u'campaign': 635, u'wirelessly': 4923, u'possible': 3398, u'possibly': 3399, u'birth': 471, u'unique': 4694, u'people': 3251, u'macabre': 2681, u'fox': 1801, u'landscape': 2516, u'energy': 1478, u'spring': 4229, u'palm': 3187, u'later': 2528, u'tournament': 4565, u'proven': 3526, u'soothe': 4170, u'exist': 1582, u'curious': 1070, u'dealer': 1129, u'actor': 44, u'republic': 3734, u'tear': 4437, u'team': 4435, u'prevent': 3447, u'attic': 306, u'erotic': 1529, u'educate': 1400, u'current': 1071, u'wherever': 4892, u'reclaim': 3650, u'love': 2655, u'bloody': 488, u'carol': 673, u'positive': 3394, u'afford': 83, u'visual': 4807, u'involve': 2368, u'believer': 436, u'vega': 4756, u'winter': 4920, u'elephant': 1428, u'spot': 4225, u'date': 1115, u'wheelchair': 4890, u'attraction': 309, u'answer': 197, u'awaited': 342, u'breakthrough': 546, u'canvas': 649, u'container': 948, u'million': 2849, u'possibility': 3397, u'potter': 3407, u'vote': 4822, u'photographic': 3293, u'rival': 3806, u'future': 1854, u'take': 4406, u'enamel': 1463, u'walking': 4833, u'hockey': 2119, u'carolina': 674, u'surgery': 4363, u'uk': 4666, u'expression': 1608, u'teddy': 4442, u'vacation': 4745, u'breath': 549, u'thousand': 4503, u'ambient': 155, u'rfid': 3783, u'harris': 2049, u'duty': 1358, u'weekly': 4877, u'colony': 847, u'clan': 788, u'millennials': 2847, u'clay': 796, u'racial': 3591, u'tube': 4640, u'acoustic': 33, u'ace': 30, u'industry': 2262, u'act': 37, u'luck': 2664, u'image': 2213, u'algorithm': 122, u'taught': 4427, u'agree': 96, u'detailed': 1206, u'ad': 48, u'ai': 99, u'al': 108, u'as': 271, u'ar': 234, u'au': 311, u'az': 353, u'andrew': 175, u'fresh': 1814, u'original': 3142, u'pilot': 3312, u'candid': 643, u'condition': 916, u'dinosaur': 1241, u'expedition': 1590, u'section': 3960, u'nurse': 3066, u'pick': 3303, u'action': 38, u'homework': 2135, u'science': 3924, u'immerse': 2220, u'beautiful': 418, u'accept': 16, u'autumn': 335, u'sense': 3982, u'information': 2273, u'creature': 1032, u'entrepreneurship': 1511, u'backyard': 365, u'misadventure': 2870, u'imagery': 2214, u'mexican': 2823, u'pant': 3191, u'propose': 3512, u'magic': 2690, u'always': 147, u'week': 4875, u'highway': 2104, u'porcelain': 3383, u'imagine': 2218, u'rack': 3594, u'number': 3063, u'ethereal': 1543, u'cartoon': 679, u'relationship': 3693, u'helpful': 2088, u'appreciation': 229, u'grace': 1949, u'obama': 3075, u'critically': 1041, u'pennsylvania': 3249, u'marriage': 2739, u'relief': 3699, u'play': 3339, u'plan': 3328, u'cover': 1010, u'session': 3999, u'impact': 2226, u'sleeve': 4114, u'set': 4000, u'appalachian': 218, u'sex': 4007, u'see': 3964, u'sea': 3947, u'punch': 3551, u'whole': 4897, u'drunk': 1341, u'hollow': 2124, u'acceptance': 17, u'synth': 4393, u'firm': 1726, u'fire': 1724, u'funk': 1847, u'funny': 1849, u'decor': 1142, u'recent': 3644, u'oregon': 3134, u'comprise': 904, u'wearable': 4865, u'location': 2628, u'sight': 4058, u'sanity': 3888, u'santa': 3889, u'wildlife': 4907, u'anything': 209, u'primarily': 3454, u'next': 3018, u'arcade': 236, u'specifically': 4201, u'occupy': 3085, u'jewish': 2417, u'link': 2602, u'competition': 889, u'line': 2601, u'mature': 2765, u'medical': 2785, u'phantom': 3278, u'summit': 4343, u'walker': 4832, u'hello': 2085, u'essay': 1533, u'code': 828, u'description': 1188, u'send': 3978, u'sens': 3980, u'garden': 1871, u'challenge': 716, u'bird': 470, u'led': 2558, u'lee': 2559, u'let': 2574, u'engage': 1480, u'sketchbook': 4101, u'doubt': 1308, u'integrate': 2318, u'reproduce': 3732, u'bent': 445, u'wed': 4872, u'bend': 442, u'flamenco': 1739, u'trumpet': 4635, u'animal': 183, u'aspiring': 280, u'await': 341, u'educational': 1402, u'notebook': 3050, u'allow': 131, u'puerto': 3545, u'python': 3567, u'kiss': 2488, u'installment': 2307, u'merge': 2812, u'delightful': 1163, u'beginner': 429, u'agriculture': 97, u'wander': 4837, u'bad': 367, u'spill': 4212, u'david': 1119, u'davis': 1120, u'stimulate': 4274, u'ethical': 1544, u'jesus': 2414, u'owner': 3170, u'percussion': 3255, u'steel': 4261, u'breathable': 550, u'relic': 3698, u'latino': 2530, u'soar': 4141, u'brazil': 540, u'regard': 3679, u'doug': 1309, u'edc': 1390, u'destroy': 1203, u'bourbon': 523, u'hope': 2143, u'edition': 1397, u'superhero': 4350, u'email': 1437, u'drum': 1339, u'drug': 1338, u'co': 820, u'ca': 616, u'cd': 700, u'ct': 1052, u'storefront': 4281, u'minneapolis': 2863, u'atlanta': 296, u'laser': 2524, u'lush': 2674, u'lust': 2675, u'ball': 374, u'columbia': 853, u'robotic': 3816, u'dust': 1357, u'colour': 852, u'command': 868, u'deserve': 1190, u'generous': 1889, u'habitat': 2014, u'craftsmanship': 1017, u'footage': 1771, u'thief': 4491, u'transport': 4600, u'avoid': 340, u'stage': 4238, u'sister': 4088, u'angeles': 179, u'alliance': 130, u'commitment': 875, u'naturally': 2984, u'delivery': 1166, u'construction': 943, u'delivers': 1165, u'count': 999, u'wife': 4903, u'smooth': 4133, u'recognize': 3652, u'variety': 4753, u'apparel': 219, u'rural': 3857, u'kickstart': 2474, u'rapid': 3611, u'chinese': 757, u'blanket': 480, u'upload': 4726, u'alt': 142, u'near': 2992, u'pursuit': 3562, u'celebration': 702, u'study': 4312, u'smoke': 4132, u'aka': 107, u'secure': 3961, u'come': 859, u'indiana': 2254, u'reign': 3686, u'tinder': 4530, u'mechanic': 2783, u'ordinary': 3133, u'greet': 1976, u'greek': 1974, u'green': 1975, u'zen': 4991, u'choose': 762, u'somewhere': 4163, u'denver': 1176, u'giraffe': 1908, u'frequency': 1813, u'organize': 3138, u'fandom': 1651, u'manner': 2719, u'strength': 4298, u'paradigm': 3197, u'brief': 561, u'subtle': 4325, u'crush': 1049, u'guidance': 2001, u'sentence': 3987, u'do': 1283, u'dj': 1281, u'de': 1124, u'dc': 1123, u'da': 1090, u'du': 1344, u'dr': 1317, u'gentleman': 1894, u'teaching': 4434, u'reproduction': 3733, u'cop': 978, u'cow': 1012, u'cod': 827, u'con': 908, u'flexible': 1745, u'smartwatch': 4127, u'gentle': 1893, u'voice': 4816, u'patent': 3222, u'jerry': 2410, u'raid': 3600, u'rail': 3601, u'evil': 1560, u'scenario': 3915, u'spread': 4228, u'cape': 655, u'lily': 2597, u'security': 3963, u'antique': 204, u'purple': 3558, u'anime': 187, u'kyle': 2503, u'fight': 1701, u'throw': 4514, u'minor': 2865, u'inclusive': 2243, u'tesla': 4466, u'evidence': 1559, u'mold': 2896, u'handmade': 2032, u'interested': 2333, u'together': 4542, u'reception': 3646, u'notification': 3053, u'global': 1915, u'known': 2499, u'zone': 4998, u'flash': 1740, u'permanently': 3266, u'explode': 1598, u'protective': 3517, u'anonymous': 195, u'recently': 3645, u'revolution': 3778, u'thinker': 4495, u'decade': 1136, u'satisfy': 3895, u'explosion': 1602, u'change': 721, u'trial': 4614, u'live': 2619, u'dedicated': 1147, u'december': 1137, u'productive': 3481, u'remember': 3707, u'cold': 832, u'billy': 465, u'half': 2021, u'hall': 2022, u'halo': 2024, u'concerto': 913, u'entirely': 1507, u'em': 1436, u'el': 1413, u'en': 1461, u'ed': 1389, u'ex': 1563, u'okay': 3105, u'ep': 1516, u'space': 4187, u'rebel': 3639, u'promotion': 3502, u'impossible': 2231, u'size': 4095, u'sheep': 4024, u'sheet': 4025, u'silent': 4064, u'breed': 553, u'friend': 1818, u'rugged': 3851, u'anger': 180, u'breakfast': 544, u'veteran': 4771, u'objective': 3077, u'nuclear': 3061, u'ground': 1990, u'proportion': 3511, u'texture': 4475, u'essence': 1534, u'husband': 2182, u'concert': 912, u'concern': 911, u'article': 260, u'talented': 4409, u'pray': 3419, u'prequel': 3435, u'rebuild': 3642, u'countless': 1001, u'soil': 4150, u'embrace': 1442, u'document': 1287, u'finish': 1721, u'fruit': 1827, u'tradition': 4578, u'theater': 4479, u'touch': 4559, u'speed': 4206, u'desktop': 1195, u'treatment': 4610, u'real': 3631, u'marcus': 2730, u'read': 3627, u'postcard': 3401, u'eddie': 1391, u'oakland': 3074, u'conservative': 934, u'millennial': 2846, u'central': 709, u'hiatus': 2098, u'prepare': 3433, u'bucket': 583, u'describe': 1187, u'salem': 3877, u'nerd': 3006, u'storage': 4279, u'coverage': 1011, u'themed': 4484, u'psychology': 3536, u'finger': 1719, u'primer': 3457, u'strong': 4307, u'soldier': 4154, u'alzheimer': 148, u'injury': 2281, u'remixes': 3711, u'site': 4091, u'broke': 571, u'hardware': 2043, u'vr': 4826, u'nina': 3026, u'nine': 3027, u'sherlock': 4029, u'string': 4303, u'fu': 1831, u'tattoo': 4426, u'fc': 1670, u'fl': 1735, u'fm': 1757, u'documentation': 1289, u'environmentally': 1515, u'food': 1767, u'desperately': 1197, u'fully': 1836, u'sailor': 3873, u'capability': 652, u'die': 1227, u'trailer': 4585, u'neil': 3003, u'wacky': 4828, u'magnet': 2693, u'robert': 3812, u'pun': 3550, u'timeline': 4527, u'pub': 3538, u'base': 392, u'ask': 277, u'ash': 272, u'elder': 1414, u'draft': 1318, u'jamie': 2396, u'jordan': 2433, u'juice': 2445, u'contest': 951, u'towards': 4567, u'afghanistan': 86, u'blend': 481, u'completion': 895, u'pretty': 3446, u'waterproof': 4855, u'famous': 1648, u'unpublished': 4712, u'wow': 4962, u'outdoors': 3152, u'genre': 1892, u'curated': 1067, u'buzz': 615, u'battery': 405, u'anthony': 200, u'pilgrim': 3309, u'anymore': 207, u'belong': 438, u'user': 4738, u'grind': 1984, u'useful': 4737, u'transformation': 4593, u'march': 2729, u'submission': 4321, u'customize': 1079, u'run': 3854, u'processing': 3475, u'abroad': 6, u'faith': 1640, u'therapeutic': 4486, u'nothing': 3051, u'teach': 4432, u'russian': 3860, u'cotton': 996, u'forge': 1780, u'heroine': 2095, u'depth': 1183, u'ga': 1856, u'go': 1923, u'ukulele': 4667, u'soul': 4175, u'download': 1313, u'click': 802, u'espresso': 1532, u'experiment': 1594, u'arrive': 256, u'claim': 787, u'cloud': 814, u'tennis': 4456, u'donut': 1301, u'nurture': 3067, u'halloween': 2023, u'vibe': 4773, u'poetry': 3361, u'healthcare': 2068, u'blake': 478, u'till': 4523, u'pixel': 3322, u'luna': 2670, u'mode': 2890, u'secretly': 3959, u'activism': 41, u'activist': 42, u'eco': 1385, u'route': 3844, u'austin': 320, u'introspective': 2352, u'grow': 1993, u'horde': 2146, u'platformer': 3337, u'ben': 441, u'bed': 422, u'bee': 424, u'bet': 449, u'border': 509, u'switch': 4386, u'montana': 2907, u'affair': 81, u'parker': 3204, u'cute': 1082, u'anyway': 211, u'fuel': 1832, u'evolution': 1561, u'legacy': 2562, u'horrible': 2149, u'precious': 3422, u'defense': 1153, u'jersey': 2411, u'addition': 58, u'novel': 3056, u'resident': 3742, u'ink': 2282, u'inc': 2239, u'annie': 190, u'reflection': 3673, u'drive': 1332, u'definitive': 1157, u'fate': 1665, u'historic': 2112, u'prominent': 3498, u'candy': 646, u'chocolate': 759, u'cleveland': 800, u'medieval': 2787, u'expansion': 1587, u'sinister': 4086, u'mississippi': 2875, u'inner': 2283, u'hi': 2097, u'hd': 2061, u'mozart': 2937, u'twist': 4654, u'dystopian': 1364, u'nintendo': 3029, u'pinup': 3315, u'dynamic': 1362, u'protest': 3520, u'rescue': 3737, u'clothes': 812, u'new': 3014, u'net': 3009, u'tornado': 4555, u'interpret': 2341, u'county': 1003, u'bike': 460, u'type': 4660, u'tell': 4449, u'expose': 1605, u'underwear': 4685, u'give': 1911, u'keyboard': 2471, u'kung': 2502, u'investigator': 2362, u'lucy': 2666, u'dawn': 1121, u'collector': 843, u'cthulhu': 1053, u'surprise': 4364, u'revenge': 3771, u'loud': 2650, u'playwright': 3344, u'hook': 2141, u'hood': 2140, u'influence': 2269, u'chef': 744, u'matter': 2763, u'cheer': 742, u'visitor': 4806, u'stop': 4278, u'reference': 3670, u'prince': 3458, u'relatable': 3689, u'gps': 1947, u'sunshine': 4348, u'tank': 4416, u'conspiracy': 939, u'neat': 2995, u'metropolitan': 2822, u'ii': 2199, u'im': 2212, u'il': 2201, u'io': 2369, u'comedian': 860, u'rome': 3833, u'swag': 4376, u'identify': 2194, u'facility': 1630, u'track': 4573, u'tracker': 4574, u'burn': 603, u'keeper': 2462, u'bury': 604, u'formerly': 1787, u'intellectual': 2320, u'form': 1784, u'cuban': 1055, u'tucson': 4641, u'daddy': 1092, u'classic': 792, u'wonderland': 4940, u'revitalize': 3775, u'ship': 4034, u'digital': 1235, u'felt': 1685, u'diet': 1229, u'fell': 1683, u'billion': 464, u'invent': 2355, u'skin': 4105, u'accidentally': 22, u'shave': 4022, u'inexpensive': 2264, u'transportation': 4601, u'rediscover': 3667, u'insider': 2295, u'thru': 4515, u'curriculum': 1073, u'olive': 3108, u'effort': 1408, u'canadian': 640, u'wallet': 4835, u'crazy': 1023, u'pink': 3314, u'chemical': 745, u'sunday': 4345, u'sword': 4387, u'tile': 4522, u'designer': 1192, u'outline': 3156, u'maybe': 2771, u'jail': 2392, u'gesture': 1902, u'texas': 4470, u'finance': 1714, u'killer': 2479, u'interview': 2344, u'pizza': 3323, u'relive': 3702, u'sxsw': 4388, u'monster': 2906, u'vinyl': 4791, u'finishing': 1723, u'language': 2518, u'exotic': 1585, u'question': 3578, u'prehistoric': 3427, u'carry': 677, u'accurately': 29, u'venture': 4762, u'marijuana': 2732, u'editing': 1396, u'creatively': 1028, u'personalized': 3272, u'pain': 3181, u'pair': 3185, u'contemporary': 949, u'behind': 432, u'black': 476, u'penguin': 3248, u'honesty': 2137, u'calendar': 628, u'pump': 3549, u'reading': 3629, u'jr': 2442, u'cancer': 642, u'cancel': 641, u'odyssey': 3092, u'compile': 892, u'middle': 2834, u'scientist': 3926, u'totally': 4557, u'rocky': 3822, u'chamber': 717, u'audience': 313, u'doll': 1291, u'broken': 572, u'island': 2381, u'certify': 713, u'bookstore': 504, u'vocalist': 4815, u'mary': 2744, u'girlfriend': 1910, u'lifetime': 2588, u'factory': 1633, u'hybrid': 2183, u'field': 1697, u'lapel': 2519, u'shelter': 4028, u'tackle': 4400, u'revolve': 3781, u'remote': 3712, u'deluxe': 1168, u'represent': 3729, u'wrestle': 4965, u'cooperative': 977, u'engrave': 1488, u'scout': 3931, u'lawyer': 2539, u'beacon': 410, u'standard': 4244, u'search': 3952, u'airport': 105, u'establish': 1537, u'town': 4570, u'der': 1184, u'del': 1160, u'compare': 883, u'unexpected': 4689, u'everyday': 1555, u'different': 1231, u'connectivity': 927, u'blood': 487, u'coat': 825, u'doctor': 1286, u'pleasure': 3346, u'dough': 1310, u'existence': 1583, u'handheld': 2030, u'late': 2527, u'token': 4544, u'everyone': 1556, u'idea': 2192, u'insurance': 2317, u'funding': 1844, u'sitcom': 4090, u'twenty': 4650, u'construct': 942, u'paint': 3182, u'mama': 2709, u'john': 2423, u'interactive': 2330, u'trip': 4623, u'commentary': 871, u'kc': 2460, u'thomas': 4499, u'letterpress': 2576, u'carefully': 668, u'dysfunctional': 1363, u'bullet': 595, u'touchscreen': 4560, u'luke': 2668, u'courage': 1006, u'guild': 2004, u'steampunk': 4260, u'gospel': 1943, u'individual': 2257, u'collectable': 839, u'positivity': 3396, u'supply': 4357, u'throughout': 4513, u'platinum': 3338, u'create': 1025, u'creativity': 1030, u'secret': 3958, u'ireland': 2377, u'understand': 4682, u'bill': 462, u'sexuality': 4009, u'fun': 1837, u'decoration': 1144, u'emphasize': 1451, u'moment': 2899, u'landmark': 2515, u'chemistry': 746, u'spend': 4208, u'atomic': 299, u'dslr': 1343, u'alternate': 144, u'excited': 1573, u'webcomic': 4869, u'glove': 1920, u'bach': 356, u'pet': 3275, u'per': 3253, u'pen': 3244, u'nose': 3046, u'signature': 4061, u'homemade': 2133, u'forward': 1793, u'creepy': 1035, u'groove': 1988, u'engineering': 1485, u'functionality': 1840, u'golfer': 1932, u'peanut': 3239, u'knight': 2494, u'junior': 2451, u'bachelor': 357, u'mindset': 2853, u'private': 3468, u'seamless': 3949, u'manufacturer': 2722, u'harvest': 2054, u'praise': 3418, u'violence': 4792, u'kickstarter': 2475, u'philosophy': 3286, u'sit': 4089, u'addiction': 56, u'ignite': 2198, u'six': 4093, u'meter': 2819, u'le': 2544, u'lb': 2543, u'la': 2504, u'lp': 2663, u'criminal': 1038, u'artisanal': 264, u'strive': 4305, u'memoir': 2799, u'programmer': 3491, u'attend': 304, u'electronica': 1422, u'electronics': 1423, u'red': 3663, u'taco': 4401, u'monkey': 2905, u'environmental': 1514, u'distinctive': 1270, u'tango': 4415, u'comfortable': 864, u'tide': 4518, u'gravity': 1968, u'eight': 1411, u'handbag': 2026, u'absurd': 10, u'gore': 1941, u'charles': 731, u'supporter': 4359, u'coloring': 851, u'organ': 3135, u'motherhood': 2923, u'national': 2979, u'optional': 3125, u'instant': 2308, u'freely': 1811, u'glorious': 1918, u'comment': 870, u'laugh': 2531, u'value': 4750, u'prose': 3513, u'portray': 3391, u'bullying': 597, u'weapon': 4863, u'coaster': 824, u'dakota': 1095, u'heritage': 2092, u'citizen': 782, u'raven': 3619, u'deployment': 1181, u'insert': 2293, u'feast': 1672, u'est': 1536, u'worthy': 4958, u'hot': 2155, u'firefighter': 1725, u'buy': 613, u'bus': 605, u'memphis': 2803, u'bud': 584, u'wise': 4926, u'ecosystem': 1388, u'virtual': 4798, u'traumatic': 4605, u'baker': 371, u'augmented': 318, u'hate': 2057, u'tweet': 4648, u'pride': 3452, u'every': 1553, u'enjoy': 1490, u'street': 4297, u'disney': 1264, u'studio': 4311, u'path': 3224, u'uspcc': 4739, u'auction': 312, u'visible': 4802, u'breathe': 551, u'md': 2775, u'mc': 2774, u'mo': 2885, u'mn': 2884, u'mi': 2826, u'entertainer': 1502, u'charging': 729, u'mess': 2814, u'enter': 1499, u'fall': 1643, u'thesis': 4489, u'victory': 4779, u'lasting': 2526, u'gon': 1933, u'god': 1927, u'publication': 3540, u'earbuds': 1368, u'already': 140, u'coding': 829, u'rockin': 3821, u'tool': 4551, u'serve': 3996, u'western': 4885, u'expo': 1604, u'fashion': 1660, u'elegance': 1424, u'contact': 946, u'visionary': 4804, u'abc': 2, u'flow': 1753, u'enterprise': 1500, u'inspire': 2300, u'random': 3606, u'rpgs': 3849, u'geek': 1882, u'plush': 3352, u'twice': 4651, u'duck': 1347, u'liquor': 2607, u'capacity': 654, u'improve': 2234, u'protect': 3515, u'epidemic': 1518, u'beer': 426, u'uncommon': 4676, u'complexity': 897, u'viking': 4786, u'wound': 4960, u'complex': 896, u'inventory': 2358, u'several': 4005, u'mask': 2748, u'humanity': 2171, u'apart': 213, u'gift': 1906, u'specific': 4200, u'escape': 1530, u'ice': 2188, u'christmas': 769, u'cord': 983, u'core': 984, u'hartsoe': 2053, u'corp': 986, u'surround': 4367, u'head': 2062, u'medium': 2789, u'heal': 2065, u'heat': 2077, u'hear': 2070, u'heartwarming': 2076, u'nj': 3030, u'na': 2967, u'nc': 2990, u'ne': 2991, u'nw': 3070, u'saxophonist': 3905, u'sing': 4082, u'advantage': 70, u'none': 3038, u'mma': 2883, u'bake': 370, u'choral': 763, u'arc': 235, u'thirty': 4498, u'weird': 4879, u'fool': 1769, u'riot': 3801, u'combo': 858, u'local': 2625, u'laughter': 2532, u'performer': 3261, u'stroke': 4306, u'sharp': 4021, u'afterlife': 90, u'keepsake': 2463, u'worship': 4956, u'cutter': 1083, u'float': 1748, u'equality': 1522, u'sophomore': 4172, u'opera': 3116, u'ultimately': 4669, u'profit': 3487, u'theory': 4485, u'wan': 4836, u'origin': 3141, u'pokemon': 3365, u'convention': 965, u'hug': 2168, u'hub': 2166, u'module': 2895, u'holder': 2121, u'require': 3736, u'pre': 3421, u'ann': 188, u'dining': 1239, u'emphasis': 1450, u'freshman': 1815, u'planning': 3332, u'foot': 1770, u'recipe': 3648, u'true': 4632, u'crime': 1037, u'tailor': 4405, u'rendition': 3718, u'detect': 1207, u'region': 3682, u'robotics': 3817, u'pole': 3367, u'moore': 2914, u'jon': 2430, u'someone': 4160, u'alphabet': 139, u'recital': 3649, u'model': 2891, u'harrison': 2050, u'except': 1569, u'easily': 1374, u'virginia': 4797, u'walk': 4831, u'color': 848, u'pacific': 3175, u'legal': 2563, u'provider': 3528, u'communicate': 877, u'outreach': 3160, u'ok': 3104, u'oh': 3101, u'oz': 3171, u'communication': 878, u'racism': 3593, u'soprano': 4173, u'taylor': 4430, u'politics': 3373, u'idiot': 2196, u'flower': 1754, u'invest': 2359, u'odds': 3091, u'follow': 1764, u'program': 3489, u'presentation': 3438, u'woman': 4937, u'grandfather': 1959, u'saxophone': 3904, u'grateful': 1965, u'ten': 4454, u'tea': 4431, u'tee': 4443, u'rate': 3616, u'design': 1191, u'deeply': 1150, u'sculptural': 3943, u'impression': 2232, u'gothic': 1944, u'arise': 244, u'cultivate': 1062, u'disable': 1249, u'september': 3989, u'kitten': 2491, u'mission': 2874, u'unity': 4700, u'might': 2839, u'alter': 143, u'autobiographical': 328, u'health': 2067, u'paradise': 3198, u'generate': 1886, u'circuit': 779, u'divorce': 1279, u'flood': 1749, u'blank': 479, u'temperature': 4451, u'collar': 837, u'instruction': 2312, u'strengthen': 4299, u'added': 54, u'curse': 1074, u'melody': 2794, u'sharing': 4019, u'william': 4909, u'activity': 43, u'sustainable': 4375, u'corruption': 991, u'korea': 2500, u'succeed': 4327, u'lyrical': 2679, u'bronze': 573, u'license': 2583, u'smith': 4131, u'duo': 1352, u'due': 1349, u'strategy': 4294, u'pc': 3234, u'pa': 3172, u'pi': 3299, u'quintet': 3583, u'batch': 401, u'san': 3883, u'ergonomic': 1526, u'competitive': 890, u'exclusively': 1577, u'exhibition': 1581, u'arthur': 259, u'flute': 1755, u'fast': 1662, u'melodic': 2793, u'showcase': 4048, u'sax': 3903, u'income': 2244, u'pottery': 3408, u'nasa': 2974, u'edm': 1399, u'steve': 4268, u'drinking': 1331, u'fine': 1718, u'find': 1717, u'labyrinth': 2508, u'cozy': 1014, u'mistake': 2876, u'giant': 1905, u'usb': 4735, u'usa': 4733, u'sort': 4174, u'musician': 2954, u'sculptor': 3942, u'augment': 317, u'heard': 2071, u'villain': 4788, u'something': 4161, u'united': 4699, u'sweat': 4378, u'tension': 4457, u'independent': 2250, u'nostalgia': 3047, u'orange': 3128, u'investor': 2364, u'profound': 3488, u'integrated': 2319, u'sandwich': 3886, u'goblin': 1926, u'boring': 511, u'ray': 3621, u'combat': 855, u'hardcover': 2041, u'futuristic': 1855, u'unlimited': 4708, u'packaging': 3178, u'respect': 3749, u'storyteller': 4285, u'tutor': 4645, u'painter': 3183, u'layer': 2541, u'dual': 1345, u'cross': 1043, u'member': 2796, u'beast': 415, u'mfa': 2825, u'fishing': 1730, u'myth': 2962, u'tail': 4404, u'growth': 1995, u'extension': 1613, u'owl': 3168, u'own': 3169, u'fundraiser': 1846, u'apps': 232, u'intention': 2327, u'record': 3654, u'demonstrate': 1174, u'guitarist': 2007, u'four': 1799, u'increase': 2246, u'solid': 4156, u'holocaust': 2127, u'thunder': 4516, u'lgbt': 2579, u'cart': 678, u'cult': 1061, u'replace': 3726, u'symphony': 4390, u'strike': 4302, u'lord': 2643, u'pursue': 3561, u'example': 1567, u'feature': 1674, u'stainless': 4240, u'nonprofit': 3040, u'fictional': 1694, u'series': 3993, u'dubstep': 1346, u'rv': 3861, u'mayan': 2770, u'rc': 3623, u'foundation': 1796, u'lit': 2613, u'silicon': 4065, u'oct': 3088, u'remotely': 3713, u'basketball': 398, u'crawl': 1021, u'tree': 4611, u'second': 3957, u'runner': 3855, u'pittsburgh': 3321, u'addict': 55, u'entry': 1512, u'thriller': 4509, u'camp': 634, u'participate': 3209, u'layout': 2542, u'appreciated': 228, u'pocket': 3353, u'autistic': 326, u'hero': 2093, u'debt': 1134, u'planner': 3331, u'logic': 2631, u'pregnancy': 3425, u'stadium': 4235, u'gritty': 1986, u'bio': 467, u'violin': 4794, u'electro': 1420, u'european': 1546, u'innocent': 2285, u'desire': 1193, u'psychological': 3535, u'specie': 4199, u'continuation': 954, u'creek': 1034, u'unit': 4697, u'instructional': 2313, u'memorable': 2800, u'seeker': 3967, u'sol': 4151, u'son': 4164, u'wrap': 4963, u'constantly': 941, u'magnificent': 2695, u'back': 358, u'inside': 2294, u'textbook': 4472, u'reggae': 3681, u'hurt': 2181, u'leave': 2556, u'tap': 4417, u'spiritual': 4217, u'sign': 4059, u'melt': 2795, u'junk': 2452, u'understanding': 4683, u'brilliant': 564, u'fake': 1642, u'wicked': 4901, u'awesome': 350, u'drama': 1321, u'monitoring': 2903, u'st': 4233, u'sc': 3907, u'pollution': 3374, u'sf': 4011, u'se': 3946, u'sd': 3945, u'internationally': 2339, u'celebrate': 701, u'ideal': 2193, u'nation': 2978, u'twilight': 4652, u'frank': 1806, u'square': 4232, u'investigation': 2361, u'city': 783, u'bite': 474, u'stuffed': 4314, u'slasher': 4109, u'antic': 201, u'alley': 129, u'allen': 128, u'crochet': 1042, u'groovebox': 1989, u'lawn': 2537, u'average': 338, u'bright': 562, u'dancing': 1102, u'assistant': 289, u'resource': 3748, u'uncover': 4678, u'smoothy': 4134, u'vertical': 4768, u'screen': 3934, u'retelling': 3761, u'many': 2725, u'homelessness': 2132, u'prototype': 3521, u'enable': 1462, u'tribal': 4615, u'purse': 3560, u'monk': 2904, u'customized': 1080, u'rest': 3754, u'around': 251, u'dark': 1108, u'dare': 1107, u'lend': 2568, u'cannabis': 647, u'package': 3177, u'homeless': 2131, u'hey': 2096, u'amplify': 166, u'october': 3089, u'tight': 4521, u'mass': 2750, u'adam': 49, u'tv': 4647, u'tu': 4639, u'ta': 4396, u'diary': 1224, u'heist': 2083, u'large': 2521, u'provocative': 3529, u'empower': 1457, u'legend': 2564, u'intensive': 2325, u'pearl': 3240, u'ballad': 375, u'attention': 305, u'morgan': 2916, u'scan': 3909, u'scar': 3911, u'authentic': 322, u'refuse': 3677, u'fundamental': 1842, u'found': 1795, u'reduce': 3668, u'castle': 688, u'glitter': 1914, u'jet': 2415, u'satirical': 3894, u'mural': 2945, u'seamlessly': 3950, u'listen': 2610, u'golf': 1931, u'noah': 3031, u'banner': 385, u'cry': 1050, u'startup': 4249, u'pickup': 3304, u'available': 336, u'javascript': 2403, u'subject': 4320, u'electrical': 1418, u'church': 773, u'straight': 4287, u'swim': 4382, u'spectacular': 4202, u'forgiveness': 1782, u'comprehensive': 903, u'alert': 119, u'fabrication': 1625, u'person': 3268, u'kelly': 2466, u'hydroponic': 2184, u'amp': 164, u'aloha': 134, u'eager': 1365, u'format': 1785, u'suffering': 4334, u'continue': 955, u'greeting': 1977, u'mighty': 2840, u'miracle': 2868, u'dating': 1116, u'colorado': 849, u'twelve': 4649, u'hometown': 2134, u'suit': 4338, u'poster': 3402, u'uv': 4743, u'us': 4732, u'un': 4671, u'truck': 4631, u'scratch': 3932, u'enjoyable': 1491, u'young': 4986, u'mixing': 2880, u'chapbook': 724, u'transmission': 4599, u'eve': 1547, u'try': 4638, u'race': 3589, u'pledge': 3347, u'richmond': 3792, u'poverty': 3412, u'technical': 4439, u'extreme': 1619, u'holmes': 2126, u'starship': 4246, u'slim': 4118, u'slip': 4119, u'native': 2982, u'counter': 1000, u'element': 1426, u'classy': 795, u'move': 2934, u'warren': 4847, u'attachment': 301, u'dock': 1285, u'legendary': 2565, u'presidential': 3442, u'minimalist': 2858, u'truth': 4637, u'hilarious': 2106, u'put': 3564, u'manuscript': 2724, u'accurate': 28, u'system': 4395, u'burlesque': 602, u'pup': 3553, u'warfare': 4843, u'face': 1627, u'mechanical': 2784, u'painting': 3184, u'fact': 1631, u'bring': 565, u'brink': 567, u'noir': 3034, u'score': 3928, u'meant': 2780, u'handle': 2031, u'smash': 4128, u'gbs': 1880, u'rhode': 3785, u'louisiana': 2652, u'zines': 4994, u'accident': 21, u'spain': 4189, u'ultra': 4670, u'va': 4744, u'matthew': 2764, u'android': 176, u'infinity': 2268, u'emotionally': 1449, u'drink': 1330, u'infinite': 2267, u'drawing': 1325, u'day': 1122, u'spinner': 4214, u'government': 1946, u'password': 3217, u'artbook': 258, u'software': 4149, u'compute': 906, u'convince': 969, u'distribution': 1272, u'irish': 2378, u'contribute': 957, u'sibling': 4055, u'jesse': 2412, u'renowned': 3720, u'photobook': 3290, u'vignette': 4785, u'ghost': 1904, u'simon': 4072, u'defend': 1152, u'controversial': 962, u'reinvent': 3688, u'triumph': 4625, u'horn': 2148, u'revolutionize': 3780, u'officially': 3098, u'daughter': 1117, u'highly': 2103, u'total': 4556, u'motivate': 2925, u'negative': 3000, u'award': 346, u'player': 3340, u'beach': 409, u'lgbtq': 2580, u'retail': 3759, u'salon': 3878, u'japan': 2399, u'band': 382, u'bang': 383, u'slavery': 4111, u'good': 1934, u'hardback': 2039, u'logo': 2632, u'medicine': 2786, u'delicious': 1161, u'thick': 4490, u'farming': 1658, u'albert': 114, u'navigate': 2987, u'realm': 3636, u'luxury': 2677, u'ebook': 1380, u'anatomy': 172, u'voting': 4824, u'personality': 3270, u'executive': 1578, u'financially': 1716, u'unable': 4673, u'wa': 4827, u'wo': 4935, u'wi': 4900, u'brad': 533, u'iraq': 2376, u'prison': 3465, u'fest': 1689, u'east': 1375, u'air': 102, u'aim': 101, u'aid': 100, u'property': 3509, u'audiobook': 315, u'uplift': 4724, u'perform': 3259, u'bunny': 600, u'athletic': 295, u'board': 493, u'boxer': 528, u'retreat': 3763, u'pose': 3392, u'illustration': 2210, u'post': 3400, u'bound': 520, u'way': 4859, u'wax': 4858, u'war': 4840, u'nationwide': 2981, u'encrypt': 1470, u'welcome': 4880, u'instrumental': 2315, u'paced': 3174, u'witty': 4933, u'rhythm': 3787, u'southwest': 4185, u'woven': 4961, u'appear': 221, u'appeal': 220, u'muslim': 2955, u'manufacturing': 2723, u'prove': 3525, u'graphic': 1962, u'car': 662, u'cat': 690, u'can': 638, u'cam': 632, u'cal': 625, u'caf': 621, u'heart': 2073, u'topic': 4554, u'clothing': 813, u'exceptional': 1570, u'playful': 3341, u'culmination': 1060, u'domain': 1293, u'happen': 2035, u'album': 115, u'card': 664, u'care': 666, u'british': 568, u'concrete': 915, u'directly': 1244, u'message': 2815, u'joseph': 2434, u'tragic': 4583, u'nutrition': 3069, u'television': 4448, u'happy': 2037, u'browser': 577, u'slam': 4108, u'price': 3451, u'forever': 1779, u'duplication': 1354, u'german': 1900, u'fifty': 1700, u'maine': 2698, u'fifth': 1699, u'upgrade': 4723, u'truly': 4633, u'amanda': 149, u'physically': 3298, u'sport': 4224, u'armenian': 248, u'installation': 2306, u'trick': 4619, u'alcoholic': 117, u'extravaganza': 1618, u'noble': 3032, u'cupcake': 1066, u'severe': 4006, u'valuable': 4749, u'yr': 4989, u'listening': 2612, u'collective': 842, u'bless': 482, u'wolf': 4936, u'log': 2630, u'los': 2645, u'low': 2661, u'lot': 2649, u'brooklyn': 574, u'skeleton': 4099, u'rape': 3610, u'louis': 2651, u'nano': 2971, u'loose': 2641, u'modify': 2893, u'vet': 4770, u'family': 1647, u'mysterious': 2958, u'history': 2114, u'invasion': 2354, u'dream': 1327, u'help': 2087, u'soon': 4169, u'hell': 2084, u'yo': 4983, u'anticipated': 203, u'subway': 4326, u'reason': 3638, u'launch': 2533, u'graduate': 1953, u'banana': 381, u'center': 708, u'anticipate': 202, u'selling': 3977, u'gathering': 1877, u'perseverance': 3267, u'crayon': 1022, u'randy': 3607, u'alexander': 121, u'protector': 3518, u'jeff': 2408, u'vessel': 4769, u'stamp': 4242, u'damn': 1098, u'consume': 944, u'rope': 3839, u'endanger': 1472, u'loop': 2640, u'ready': 3630, u'conflict': 921, u'chord': 764, u'game': 1863, u'savage': 3898, u'minimal': 2857, u'journalist': 2439, u'stem': 4263, u'step': 4264, u'shiny': 4033, u'specialty': 4198, u'properly': 3508, u'intuitive': 2353, u'uber': 4663, u'novelist': 3057, u'anthology': 199, u'independently': 2251, u'kate': 2458, u'cellular': 706, u'booth': 508, u'infuse': 2277, u'commercial': 872, u'northern': 3044, u'win': 4913, u'wit': 4928, u'jonathan': 2431, u'starter': 4248, u'mythical': 2963, u'wonderful': 4939, u'arrangement': 253, u'bakery': 372, u'handy': 2033, u'literacy': 2614, u'illuminate': 2206, u'wisconsin': 4924, u'hype': 2186, u'completely': 894, u'data': 1113, u'perfectly': 3258, u'stress': 4300, u'floral': 1751, u'cartoonist': 680, u'close': 809, u'deploy': 1180, u'tire': 4533, u'bug': 588, u'endless': 1474, u'gray': 1969, u'gram': 1956, u'wish': 4927, u'grab': 1948, u'grad': 1950, u'terrain': 4459, u'desperate': 1196, u'invisible': 2365, u'quit': 3585, u'vinci': 4789, u'mythology': 2965, u'demo': 1171, u'capture': 661, u'strange': 4290, u'smarter': 4124, u'underground': 4681, u'unconventional': 4677, u'eccentric': 1382, u'fierce': 1698, u'magician': 2692, u'well': 4881, u'drone': 1336, u'immediately': 2219, u'clown': 815, u'handcrafted': 2029, u'page': 3180, u'adversity': 74, u'peter': 3277, u'poignant': 3362, u'bundle': 599, u'freedom': 1809, u'compatible': 885, u'washington': 4850, u'eat': 1378, u'erin': 1528, u'eric': 1527, u'authority': 324, u'diego': 1228, u'acrylic': 36, u'asian': 276, u'homage': 2129, u'whose': 4899, u'look': 2639, u'sleep': 4113, u'wreck': 4964, u'orchestra': 3130, u'dry': 1342, u'shipping': 4035, u'credit': 1033, u'suitable': 4339, u'warn': 4845, u'warm': 4844, u'adult': 66, u'ward': 4841, u'setup': 4003, u'programming': 3492, u'lure': 2672, u'minority': 2866, u'president': 3441, u'attempt': 303, u'breathtaking': 552, u'therapy': 4488, u'roast': 3810, u'side': 4057, u'bone': 500, u'bond': 499, u'reader': 3628, u'struggle': 4309, u'naughty': 2986, u'hollywood': 2125, u'gym': 2011, u'jacob': 2391, u'distance': 1268, u'fairytale': 1639, u'mini': 2855, u'modern': 2892, u'caleb': 627, u'mine': 2854, u'seed': 3965, u'seem': 3968, u'seek': 3966, u'regular': 3685, u'doc': 1284, u'alarm': 111, u'dog': 1290, u'ridiculous': 3797, u'principle': 3460, u'consumer': 945, u'dot': 1306, u'hunger': 2176, u'explain': 1597, u'sugar': 4335, u'boyfriend': 530, u'conduct': 917, u'coast': 823, u'disco': 1254, u'architecture': 238, u'fascinating': 1659, u'pete': 3276, u'voyage': 4825, u'warrior': 4848, u'und': 4679, u'height': 2081, u'initiative': 2280, u'sam': 3881, u'idol': 2197, u'website': 4871, u'personally': 3273, u'sad': 3866, u'say': 3906, u'mouse': 2932, u'make': 2703, u'kit': 2489, u'delight': 1162, u'opportunity': 3121, u'kid': 2476, u'consciousness': 931, u'transforms': 4594, u'human': 2170, u'character': 726, u'instrument': 2314, u'shoulder': 4046, u'performing': 3262, u'bunch': 598, u'theatrical': 4481, u'protagonist': 3514, u'empowerment': 1458, u'failure': 1635, u'sale': 3876, u'audition': 316, u'warehouse': 4842, u'potato': 3405, u'text': 4471, u'madison': 2685, u'manager': 2713, u'depend': 1178, u'shoot': 4039, u'smartphone': 4125, u'item': 2386, u'reunite': 3767, u'makeup': 2706, u'slow': 4121, u'shift': 4031, u'adjustable': 62, u'wealth': 4861, u'dude': 1348, u'shine': 4032, u'beatles': 417, u'map': 2726, u'mar': 2727, u'mat': 2756, u'may': 2769, u'max': 2766, u'mac': 2680, u'mad': 2684, u'mag': 2688, u'end': 1471, u'man': 2710, u'neck': 2997, u'johnson': 2425, u'tale': 4407, u'unleash': 4705, u'tall': 4411, u'talk': 4410, u'shield': 4030, u'lyric': 2678, u'pitch': 3320, u'within': 4930, u'rock': 3818, u'latin': 2529, u'poker': 3366, u'unlock': 4709, u'jackson': 2390, u'gamers': 1866, u'sensor': 3984, u'keith': 2465, u'advance': 68, u'thing': 4493, u'think': 4494, u'little': 2618, u'anyone': 208, u'mermaid': 2813, u'broadcast': 569, u'butt': 609, u'manufacture': 2721, u'efficient': 1407, u'potential': 3406, u'insanity': 2291, u'larry': 2522, u'shop': 4041, u'rating': 3618, u'shot': 4045, u'show': 4047, u'elevate': 1429, u'shoe': 4038, u'corner': 985, u'dice': 1225, u'nearly': 2994, u'camping': 636, u'affordable': 84, u'hudson': 2167, u'workshop': 4952, u'ongoing': 3110, u'pressing': 3444, u'speech': 4205, u'residency': 3741, u'oil': 3103, u'weave': 4867, u'solve': 4159, u'parody': 3206, u'money': 2901, u'grip': 1985, u'jake': 2393, u'grid': 1980, u'grim': 1983, u'twin': 4653, u'server': 3997, u'either': 1412, u'sneaker': 4138, u'chuck': 772, u'choir': 761, u'pioneer': 3316, u'apocalyptic': 216, u'fringe': 1822, u'mixer': 2879, u'mixed': 2878, u'sophisticated': 4171, u'romantic': 3832, u'steven': 4269, u'embed': 1440, u'deep': 1149, u'orbit': 3129, u'file': 1705, u'film': 1707, u'fill': 1706, u'important': 2229, u'chris': 766, u'oral': 3127, u'forbidden': 1775, u'dollar': 1292, u'zine': 4993, u'emily': 1445, u'difference': 1230, u'arizona': 245, u'public': 3539, u'compilation': 891, u'component': 899, u'table': 4397, u'bible': 454, u'whimsical': 4894, u'eye': 1621, u'culinary': 1058, u'texting': 4474, u'two': 4657, u'splash': 4219, u'suite': 4340, u'awkward': 352, u'fame': 1644, u'ensemble': 1497, u'advice': 77, u'responsibility': 3752, u'playing': 3343, u'suffer': 4333, u'association': 291, u'philosophical': 3285, u'exquisite': 1610, u'hard': 2038, u'orient': 3140, u'harp': 2048, u'print': 3461, u'brewery': 556, u'lawrence': 2538, u'copper': 980, u'dont': 1300, u'revive': 3777, u'least': 2554, u'para': 3194, u'park': 3203, u'part': 3207, u'believe': 435, u'recording': 3655, u'extremely': 1620, u'lovecraft': 2656, u'scholarship': 3921, u'emotional': 1448, u'ruin': 3852, u'theft': 4482, u'merchandise': 2809, u'remove': 3715, u'common': 876, u'lion': 2604, u'poe': 3357, u'forthcoming': 1789, u'nashville': 2975, u'reverse': 3772, u'screenplay': 3935, u'dancer': 1101, u'simply': 4076, u'gas': 1874, u'gap': 1869, u'repertoire': 3725, u'mystic': 2960, u'purpose': 3559, u'swiss': 4385, u'educator': 1403, u'insect': 2292, u'bamboo': 379, u'gardening': 1872, u'humorous': 2174, u'martial': 2742, u'jewelry': 2416, u'ufo': 4664, u'optimize': 3123, u'goody': 1937, u'jimmy': 2419, u'grammy': 1957, u'lesson': 2573, u'coin': 831, u'boys': 531, u'exploration': 1599, u'prepared': 3434, u'tote': 4558, u'maryland': 2745, u'queen': 3575, u'rhyme': 3786, u'recreation': 3659, u'married': 2740, u'exercise': 1579, u'exchange': 1571, u'gordon': 1940, u'upcoming': 4720, u'trail': 4584, u'iii': 2200, u'account': 27, u'mixture': 2882, u'lamp': 2512, u'forest': 1778, u'physic': 3296, u'bind': 466, u'willing': 4911, u'february': 1676, u'thrill': 4508, u'filmmaking': 1709, u'mate': 2758, u'stun': 4316, u'math': 2760, u'jessica': 2413, u'interaction': 2329, u'strategic': 4293, u'ancient': 173, u'nut': 3068, u'cabin': 618, u'imaginative': 2217, u'unlikely': 4707, u'min': 2851, u'mic': 2828, u'mid': 2833, u'mix': 2877, u'belief': 434, u'request': 3735, u'staff': 4236, u'inspiring': 2302, u'pattern': 3229, u'deliver': 1164, u'relevant': 3696, u'remix': 3710, u'bulk': 593, u'finished': 1722, u'bull': 594, u'bulb': 592, u'volunteer': 4820, u'multi': 2940, u'entrepreneurial': 1510, u'almost': 133, u'superheroes': 4351, u'francisco': 1805, u'numbered': 3064, u'antonio': 205, u'muscle': 2947, u'add': 53, u'match': 2757, u'essential': 1535, u'italian': 2384, u'accessible': 19, u'proper': 3507, u'pepper': 3252, u'proud': 3523, u'stellar': 4262, u'actual': 46, u'functional': 1839, u'proceeds': 3473, u'oak': 3073, u'limited': 2599, u'jack': 2388, u'obsess': 3079, u'poison': 3364, u'zach': 4990, u'temple': 4452, u'aftermath': 91, u'forum': 1792, u'mentor': 2806, u'hospital': 2153, u'preview': 3449, u'mystical': 2961, u'grief': 1981, u'install': 2305, u'reach': 3624, u'ultimate': 4668, u'harlem': 2045, u'london': 2633, u'compelling': 887, u'powerful': 3414, u'fitness': 1732, u'eternal': 1542, u'management': 2712, u'aspire': 279, u'onto': 3112, u'hearing': 2072, u'toy': 4571, u'top': 4553, u'ton': 4548, u'tom': 4545, u'insightful': 2297, u'urban': 4731, u'murder': 2946, u'sync': 4391, u'flame': 1738, u'snow': 4139, u'though': 4500, u'portion': 3388, u'plenty': 3348, u'saga': 3871, u'radio': 3597, u'announce': 192, u'watch': 4852, u'report': 3728, u'method': 2820, u'automatic': 331, u'habit': 2013, u'corrupt': 990, u'approach': 230, u'southeast': 4183, u'wear': 4864, u'goddess': 1928, u'store': 4280, u'gamer': 1865, u'trust': 4636, u'immersive': 2222, u'kentucky': 2468, u'casting': 687, u'suggest': 4336, u'portal': 3386, u'mother': 2922, u'alabama': 109, u'seasonal': 3954, u'elf': 1430, u'cultural': 1063, u'hunt': 2178, u'successfully': 4330, u'proudly': 3524, u'tutorial': 4646, u'ear': 1367, u'everything': 1557, u'discount': 1255, u'plug': 3350, u'cowboy': 1013, u'vengeance': 4761, u'plus': 3351, u'civil': 784, u'stereotype': 4267, u'gig': 1907, u'decorate': 1143, u'teen': 4444, u'acclaimed': 24, u'faithful': 1641, u'mashup': 2747, u'coach': 821, u'llc': 2622, u'laura': 2535, u'environment': 1513, u'charge': 727, u'cook': 970, u'cool': 975, u'hawaii': 2059, u'cyber': 1085, u'healthy': 2069, u'hopeful': 2144, u'iphone': 2374, u'prophecy': 3510, u'consist': 936, u'din': 1238, u'reconnect': 3653, u'conquer': 929, u'occult': 3084, u'term': 4458, u'showcased': 4049, u'name': 2970, u'clutch': 818, u'individually': 2259, u'obsession': 3080, u'oklahoma': 3106, u'place': 3324, u'swing': 4383, u'childhood': 753, u'array': 254, u'district': 1273, u'bounty': 522, u'alan': 110, u'copy': 981, u'population': 3381, u'nathan': 2977, u'aesthetic': 80, u'outcome': 3150, u'rent': 3721, u'marathon': 2728, u'adopt': 63, u'hungry': 2177, u'funded': 1843, u'supernatural': 4353, u'trade': 4576, u'reveal': 3769, u'beethoven': 427, u'college': 844, u'broadway': 570, u'outside': 3161, u'key': 2470, u'pot': 3404, u'por': 3382, u'pop': 3379, u'pod': 3354, u'blessing': 483, u'tiger': 4520, u'minister': 2861, u'mount': 2930, u'projector': 3497, u'check': 741, u'nest': 3008, u'footprint': 1773, u'magical': 2691, u'reward': 3782, u'actress': 45, u'ny': 3071, u'rose': 3840, u'ross': 3841, u'tie': 4519, u'furniture': 1850, u'bracelet': 532, u'serious': 3994, u'function': 1838, u'japanese': 2400, u'stand': 4243, u'gary': 1873, u'unisex': 4696, u'nightlife': 3024, u'encompass': 1465, u'messy': 2816, u'compel': 886, u'collaborative': 835, u'brass': 538, u'ali': 123, u'ale': 118, u'disc': 1253, u'dish': 1263, u'racing': 3592, u'cappella': 657, u'basically': 396, u'parable': 3195, u'pony': 3376, u'pong': 3375, u'court': 1008, u'goal': 1924, u'goat': 1925, u'catalog': 691, u'shade': 4012, u'artwork': 270, u'developer': 1213, u'style': 4318, u'resort': 3747, u'stephen': 4265, u'expect': 1588, u'join': 2426, u'cookie': 972, u'consequence': 932, u'feed': 1678, u'feel': 1680, u'notify': 3054, u'gourmet': 1945, u'hotel': 2156, u'outrageous': 3159, u'globally': 1916, u'donor': 1299, u'publicity': 3541, u'timeless': 4526, u'investigate': 2360, u'numerous': 3065, u'outfit': 3153, u'roman': 3830, u'context': 952, u'political': 3371, u'georgia': 1899, u'awakening': 345, u'literature': 2617, u'friendship': 1821, u'spaceship': 4188, u'stalk': 4241, u'tablet': 4398, u'vendor': 4760, u'awaken': 344, u'absolutely': 8, u'seller': 3976, u'innovation': 2287, u'analyze': 171, u'memory': 2802, u'delta': 1167, u'individuality': 2258, u'freak': 1807, u'narrative': 2973, u'resistance': 3744, u'awesomeness': 351, u'posture': 3403, u'capital': 656, u'trump': 4634, u'devotional': 1219, u'anywhere': 212, u'patron': 3228, u'sir': 4087, u'brian': 558, u'instead': 2310, u'sin': 4080, u'sim': 4070, u'abuse': 11, u'light': 2590, u'necklace': 2998, u'material': 2759, u'unbelievable': 4674, u'related': 3691, u'ebooks': 1381, u'frontier': 1825, u'ipod': 2375, u'pendant': 3246, u'birthday': 472, u'echo': 1383, u'synthesizer': 4394, u'creator': 1031, u'screw': 3936, u'shell': 4027, u'shelf': 4026, u'july': 2447, u'amuse': 167, u'catholic': 697, u'angle': 181, u'clash': 790, u'class': 791, u'piano': 3301, u'fabulous': 1626, u'midnight': 2836, u'brewing': 557, u'swift': 4381, u'gopro': 1939, u'mike': 2841, u'unlike': 4706, u'anderson': 174, u'mutant': 2957, u'encouragement': 1468, u'education': 1401, u'inch': 2241, u'automation': 333, u'student': 4310, u'pedal': 3241, u'whale': 4887, u'celtic': 707, u'greed': 1973, u'obtain': 3082, u'console': 938, u'attractive': 310, u'unprecedented': 4711, u'community': 879, u'miami': 2827, u'benefit': 444, u'publishing': 3544, u'universe': 4702, u'van': 4752, u'exciting': 1575, u'friends': 1820, u'tourist': 4564, u'whether': 4893, u'fund': 1841, u'lore': 2644, u'scholar': 3920, u'customizable': 1077, u'bacon': 366, u'elegant': 1425, u'herb': 2091, u'holy': 2128, u'glass': 1912, u'midst': 2837, u'hold': 2120, u'fundraise': 1845, u'beautifully': 419, u'reimagined': 3687, u'revisit': 3774, u'hop': 2142, u'beauty': 420, u'charleston': 732, u'backdrop': 359, u'feedback': 1679, u'dreamer': 1328, u'backpack': 363, u'debut': 1135, u'spider': 4211, u'customization': 1078, u'plastic': 3334, u'likely': 2595, u'boston': 514, u'shall': 4016, u'object': 3076, u'macbook': 2682, u'bust': 607, u'release': 3695, u'personalize': 3271, u'roller': 3829, u'patented': 3223, u'pro': 3470, u'eastern': 1376, u'rebellion': 3640, u'haiti': 2020, u'harmony': 2046, u'tune': 4642, u'distribute': 1271, u'ease': 1373, u'easy': 1377, u'vigilante': 4784, u'remind': 3708, u'right': 3798, u'old': 3107, u'animate': 184, u'creative': 1027, u'stylish': 4319, u'eps': 1520, u'slightly': 4117, u'jane': 2397, u'offer': 3093, u'riley': 3799, u'floor': 1750, u'ambitious': 157, u'smell': 4129, u'push': 3563, u'busy': 608, u'room': 3836, u'badge': 368, u'along': 136, u'loving': 2660, u'wool': 4943, u'printing': 3464, u'respond': 3750, u'unforgettable': 4691, u'laundry': 2534, u'explorer': 1601, u'suck': 4331, u'downloads': 1314, u'course': 1007, u'dye': 1360, u'derive': 1186, u'turtle': 4644, u'loyalty': 2662, u'training': 4588, u'punk': 3552, u'massive': 2751, u'spanish': 4191, u'williams': 4910, u'artifact': 261, u'inventor': 2357, u'third': 4497, u'parking': 3205, u'saw': 3902, u'note': 3049, u'butterfly': 611, u'salt': 3880, u'review': 3773, u'slot': 4120, u'outlet': 3155, u'prime': 3456, u'bestselling': 448, u'artist': 265, u'rgb': 3784, u'spark': 4192, u'boat': 494, u'stretch': 4301, u'locally': 2626, u'reflective': 3674, u'betrayal': 450, u'mixtape': 2881, u'renewable': 3719, u'summer': 4342, u'meat': 2782, u'stranger': 4291, u'exit': 1584, u'scientific': 3925, u'power': 3413, u'intimate': 2346, u'iconic': 2190, u'stone': 4277, u'favorite': 1668, u'meal': 2776, u'neighbor': 3001, u'mean': 2777, u'philadelphia': 3283, u'project': 3495, u'complete': 893, u'certain': 712, u'navy': 2988, u'nelson': 3004, u'smile': 4130, u'strand': 4289, u'adjust': 61, u'richard': 3791, u'brutal': 580, u'social': 4143, u'via': 4772, u'select': 3970, u'kick': 2473, u'male': 2708, u'dress': 1329, u'bit': 473, u'plant': 3333, u'helmet': 2086, u'soundtrack': 4179, u'plane': 3329, u'bowl': 526, u'attitude': 307, u'ally': 132, u'loosely': 2642, u'england': 1486, u'terrify': 4461, u'really': 3635, u'wall': 4834, u'driven': 1333, u'major': 2702, u'vocal': 4814, u'odd': 3090, u'artistic': 266, u'keychain': 2472, u'wayne': 4860, u'liquid': 2606, u'river': 3807, u'movie': 2936, u'leg': 2561, u'europe': 1545, u'hardship': 2042, u'interface': 2335, u'improved': 2235, u'influential': 2270, u'pdf': 3235, u'approve': 231, u'load': 2623, u'devil': 1216, u'monthly': 2909, u'mind': 2852, u'robin': 3813, u'kingdom': 2487, u'backing': 362, u'chase': 738, u'virtually': 4799, u'stack': 4234, u'sandal': 3885, u'input': 2289, u'quest': 3577, u'disorder': 1265, u'religion': 3700, u'survive': 4370, u'nowhere': 3060, u'repair': 3723, u'recreate': 3658, u'submit': 4322, u'custom': 1075, u'aerial': 79, u'scrub': 3940, u'energetic': 1477, u'caribbean': 670, u'ago': 95, u'fighter': 1702, u'age': 92, u'oracle': 3126, u'illustrated': 2209, u'marry': 2741, u'visuals': 4810, u'indian': 2253, u'great': 1970, u'receive': 3643, u'defeat': 1151, u'opinion': 3119, u'zip': 4995, u'illegal': 2203, u'duplicate': 1353, u'charity': 730, u'athlete': 294, u'pour': 3411, u'thin': 4492, u'fulfill': 1834, u'permanent': 3265, u'christopher': 770, u'producer': 3478, u'earth': 1372, u'mathematics': 2761, u'phenomenon': 3281, u'archival': 239, u'cage': 623, u'beneath': 443, u'society': 4145, u'shut': 4054, u'scary': 3914, u'scare': 3912, u'scarf': 3913, u'touring': 4563, u'accompany': 25, u'elite': 1432, u'viewer': 4783, u'device': 1215, u'atmosphere': 298, u'rough': 3842, u'familiar': 1646, u'campus': 637, u'motorcycle': 2929, u'unravel': 4713, u'unreleased': 4714, u'explosive': 1603, u'etc': 1540, u'gorgeous': 1942, u'waste': 4851, u'hobby': 2117, u'cyberpunk': 1086, u'songwriting': 4167, u'terrorist': 4465, u'una': 4672, u'cope': 979, u'une': 4688, u'upon': 4727, u'nationally': 2980, u'mosaic': 2920, u'less': 2572, u'paul': 3230, u'arrest': 255, u'combine': 857, u'five': 1733, u'desk': 1194, u'resin': 3743, u'garage': 1870, u'prevention': 3448, u'championship': 719, u'literally': 2615, u'sustain': 4373, u'manifest': 2716, u'schedule': 3919, u'frustration': 1828, u'monument': 2910, u'informational': 2274, u'replica': 3727, u'monday': 2900, u'chance': 720, u'inspiration': 2298, u'rule': 3853, u'everybody': 1554, u'voter': 4823, u'lack': 2509, u'compassion': 884, u'viral': 4795, u'paperback': 3193, u'simultaneously': 4079, u'itunes': 2387, u'spooky': 4223, u'work': 4946, u'indie': 2255, u'india': 2252, u'uav': 4662, u'devotion': 1218, u'lab': 2505, u'lay': 2540, u'law': 2536, u'las': 2523, u'order': 3132, u'office': 3095, u'animated': 185, u'hemp': 2089, u'break': 543, u'bread': 542, u'network': 3010, u'kim': 2481, u'comic': 865, u'tangle': 4414, u'compromise': 905, u'mercy': 2811, u'target': 4420, u'hike': 2105, u'instrumentals': 2316, u'merch': 2808, u'iron': 2379, u'genuine': 1895, u'high': 2101, u'phase': 3279, u'terrifying': 4462, u'rebirth': 3641, u'calavera': 626, u'steal': 4258, u'psalm': 3532, u'unfold': 4690, u'ill': 2202, u'tough': 4561, u'speak': 4193, u'save': 3900, u'sticker': 4271, u'dope': 1305, u'victim': 4776, u'photographer': 3292, u'fusion': 1853, u'reusable': 3768, u'soap': 4140, u'wireless': 4922, u'humor': 2173, u'columbus': 854, u'champion': 718, u'marketing': 2737, u'horizon': 2147, u'dead': 1125, u'crystal': 1051, u'abstract': 9, u'reality': 3633, u'troupe': 4630, u'dance': 1100, u'superpower': 4354, u'terror': 4464, u'brown': 576, u'vegan': 4757, u'trouble': 4628, u'upper': 4728, u'regret': 3684, u'discover': 1256, u'assistance': 288, u'buck': 582, u'marker': 2735, u'market': 2736, u'club': 816, u'clue': 817, u'taproom': 4419, u'airplane': 104, u'write': 4969, u'dive': 1274, u'southern': 4184, u'whenever': 4891, u'automatically': 332, u'typical': 4661, u'arduino': 241, u'artisan': 263, u'discuss': 1259, u'down': 1312, u'james': 2395, u'accomplish': 26, u'marine': 2733, u'honest': 2136, u'initial': 2279, u'crack': 1015, u'premier': 3428, u'crossover': 1044, u'online': 3111, u'begin': 428, u'wire': 4921, u'tooth': 4552, u'title': 4536, u'leather': 2555, u'notice': 3052, u'share': 4018, u'nearby': 2993, u'learning': 2553, u'interchangeable': 2331, u'return': 3765, u'worry': 4955, u'poetic': 3360, u'victorian': 4778, u'enjoyment': 1492, u'framework': 1803, u'charger': 728, u'thinking': 4496, u'peak': 3238, u'improvement': 2236, u'early': 1369, u'id': 2191, u'priest': 3453, u'testimony': 4469, u'assassin': 281, u'processor': 3476, u'bedtime': 423, u'elementary': 1427, u'scanner': 3910, u'teeth': 4447, u'building': 591, u'carpet': 675, u'selfies': 3974, u'rogue': 3824, u'securely': 3962, u'heaven': 2078, u'casual': 689, u'darkness': 1111, u'amount': 163, u'trainer': 4587, u'mayhem': 2772, u'transcend': 4590, u'beef': 425, u'ego': 1410, u'egg': 1409, u'romance': 3831, u'relate': 3690, u'groundbreaking': 1991, u'quantum': 3570, u'beyond': 453, u'event': 1550, u'fountain': 1798, u'revolutionary': 3779, u'terrible': 4460, u'daisy': 1094, u'afghan': 85, u'expand': 1586, u'assassination': 282, u'translation': 4598, u'alongside': 137, u'philly': 3284, u'lil': 2596, u'scotland': 3929, u'lip': 2605, u'showcases': 4050, u'watt': 4856, u'alpha': 138, u'clear': 799, u'clean': 797, u'loan': 2624, u'circle': 778, u'capsule': 658, u'basement': 394, u'redefine': 3664, u'probably': 3471, u'mega': 2792, u'sensitive': 3983, u'whatever': 4888, u'outstanding': 3162, u'territory': 4463, u'collectible': 840, u'dialogue': 1222, u'folklore': 1763, u'fleet': 1744, u'alike': 126, u'bonus': 501, u'cleaning': 798, u'database': 1114, u'dramedy': 1323, u'parade': 3196, u'eating': 1379, u'booklet': 503, u'jazzy': 2406, u'raspberry': 3614, u'simulation': 4077, u'block': 485, u'branch': 535, u'reel': 3669, u'skull': 4106, u'drag': 1319, u'youtube': 4988, u'gender': 1884, u'button': 612, u'hive': 2116, u'korean': 2501, u'nicholas': 3020, u'danger': 1103, u'singing': 4084, u'metaphor': 2818, u'vehicle': 4759, u'biblical': 455, u'salad': 3875, u'ride': 3795, u'senior': 3979, u'cruise': 1048, u'globe': 1917, u'measure': 2781, u'playground': 3342, u'sustainability': 4374, u'geometry': 1897, u'florida': 1752, u'mankind': 2718, u'art': 257, u'quality': 3569, u'privacy': 3467, u'final': 1711, u'exactly': 1565, u'bare': 387, u'need': 2999, u'microphone': 2832, u'barn': 388, u'indoor': 2260, u'employer': 1455, u'employee': 1454, u'overall': 3164, u'joint': 2427, u'buyer': 614, u'wellness': 4882, u'contain': 947, u'official': 3097, u'shake': 4014, u'computer': 907, u'equip': 1523, u'state': 4251, u'juggle': 2444, u'importance': 2228, u'efficiency': 1406, u'group': 1992, u'career': 667, u'maximize': 2767, u'poem': 3358, u'treat': 4609, u'poet': 3359, u'diversity': 1276, u'policy': 3369, u'smartphones': 4126, u'balloon': 377, u'eclectic': 1384, u'effect': 1404, u'single': 4085, u'restore': 3757, u'savannah': 3899, u'utah': 4740, u'storybook': 4284, u'martin': 2743, u'shed': 4023, u'pr': 3415, u'artists': 268, u'utility': 4741, u'networking': 3011, u'gluten': 1922, u'signed': 4062, u'cello': 705, u'piece': 3307, u'foster': 1794, u'penny': 3250, u'canada': 639, u'serial': 3992, u'updated': 4722, u'convenience': 963, u'force': 1776, u'quilt': 3582, u'crave': 1020, u'active': 40, u'digitally': 1236, u'moral': 2915, u'army': 250, u'call': 630, u'calm': 631, u'rip': 3802, u'honey': 2138, u'curiosity': 1069, u'misfit': 2872, u'lesbian': 2571, u'purchase': 3556, u'maintain': 2701, u'cheese': 743, u'encounter': 1466, u'copyright': 982, u'better': 451, u'carve': 681, u'workout': 4950, u'musically': 2953, u'content': 950, u'douglas': 1311, u'grade': 1951, u'twisted': 4655, u'congress': 923, u'anxiety': 206, u'silly': 4068, u'chess': 748, u'paris': 3202, u'inspirational': 2299, u'definitely': 1155, u'bat': 400, u'bar': 386, u'consisting': 937, u'bag': 369, u'ban': 380, u'sail': 3872, u'contribution': 958, u'lullaby': 2669, u'mythological': 2964, u'three': 4507, u'mushroom': 2950, u'aviation': 339, u'balance': 373, u'seattle': 3956, u'grown': 1994, u'vegetable': 4758, u'sacramento': 3863, u'left': 2560, u'candidate': 644, u'background': 361, u'manual': 2720, u'notorious': 3055, u'statistic': 4254, u'bold': 497, u'creatives': 1029, u'super': 4349, u'assault': 283, u'commit': 874, u'amazingly': 153, u'offering': 3094, u'streaming': 4296, u'diagnose': 1221, u'kansas': 2456, u'jones': 2432, u'daily': 1093, u'overdue': 3166, u'mile': 2842, u'mafia': 2687, u'mill': 2845, u'milk': 2844, u'suicide': 4337, u'technique': 4440, u'amaze': 151, u'finally': 1713, u'word': 4944, u'dig': 1234, u'diy': 1280, u'hobbyist': 2118, u'guardian': 1998, u'french': 1812, u'wait': 4829, u'institute': 2311, u'dick': 1226, u'france': 1804, u'downtown': 1315, u'fly': 1756, u'soup': 4180, u'awareness': 348, u'agent': 94, u'nyc': 3072, u'accessory': 20, u'african': 89, u'thank': 4476, u'coaching': 822, u'mail': 2696, u'main': 2697, u'listener': 2611, u'girl': 1909, u'living': 2621, u'dominate': 1295, u'correct': 989, u'california': 629, u'ministry': 2862, u'americana': 160, u'meaningful': 2779, u'mining': 2860, u'dash': 1112, u'channel': 722, u'trace': 4572, u'normal': 3041, u'especially': 1531, u'surprising': 4365, u'precise': 3423, u'therapist': 4487, u'devote': 1217, u'timepiece': 4528, u'geometric': 1896, u'parent': 3201, u'dedicate': 1146, u'remake': 3704, u'unusual': 4718, u'underworld': 4686, u'mark': 2734, u'shopping': 4042, u'ptsd': 3537, u'eventually': 1551, u'trek': 4612, u'pat': 3220, u'harsh': 2052, u'paw': 3231, u'pay': 3232, u'heartbreak': 2074, u'pal': 3186, u'pan': 3188, u'running': 3856, u'lemon': 2567, u'bottle': 516, u'aspect': 278, u'extensive': 1614, u'mom': 2898, u'mob': 2886, u'lightning': 2592, u'fulfil': 1833, u'critical': 1040, u'road': 3808, u'tripod': 4624, u'fellow': 1684, u'hound': 2157, u'astronaut': 292, u'resolution': 3746, u'forget': 1781, u'premium': 3430, u'aware': 347, u'celebrity': 703, u'neighborhood': 3002, u'burger': 601, u'tribute': 4618, u'movement': 2935, u'publisher': 3543, u'destination': 1200, u'diamond': 1223, u'asheville': 273, u'shark': 4020, u'practical': 3416, u'crowdfunding': 1046, u'response': 3751, u'infant': 2266, u'pregnant': 3426, u'cell': 704, u'mental': 2805, u'house': 2159, u'connect': 924, u'bully': 596, u'difficulty': 1233, u'statement': 4252, u'sensation': 3981, u'mountain': 2931, u'build': 589, u'vibration': 4775, u'relation': 3692, u'boulder': 518, u'hole': 2122, u'please': 3345, u'donate': 1297, u'annual': 194, u'raise': 3604, u'trilogy': 4621, u'meeting': 2791, u'cyclist': 1089, u'embarks': 1439, u'italy': 2385, u'open': 3113, u'textile': 4473, u'attack': 302, u'yesterday': 4981, u'werewolf': 4883, u'organization': 3137, u'snap': 4137, u'big': 458, u'bid': 457, u'unite': 4698, u'google': 1938, u'often': 3100, u'scale': 3908, u'eliminate': 1431, u'endeavor': 1473, u'use': 4736, u'fee': 1677, u'doodle': 1302, u'handbook': 2027, u'autonomous': 334, u'journal': 2437, u'favourite': 1669, u'lens': 2570, u'desert': 1189, u'housing': 2161, u'jason': 2402, u'intricate': 2347, u'enlightenment': 1494, u'ingredient': 2278, u'annoy': 193, u'infrared': 2276, u'arrange': 252, u'shock': 4037, u'joey': 2422, u'depression': 1182, u'chicago': 749, u'anthem': 198, u'body': 496, u'others': 3147, u'alaska': 112, u'proof': 3505, u'breakup': 547, u'subscription': 4323, u'gabriel': 1857, u'fiddle': 1695, u'stock': 4276, u'collection': 841, u'chief': 751, u'labor': 2507, u'dad': 1091, u'dan': 1099, u'cutting': 1084, u'kindness': 2484, u'activate': 39, u'arkansas': 246, u'lecture': 2557, u'midi': 2835, u'facilitate': 1629, u'south': 4182, u'puppet': 3554, u'time': 4525, u'gear': 1881, u'ipad': 2373, u'loved': 2657, u'lover': 2659, u'embody': 1441, u'nonfiction': 3039, u'dallas': 1096, u'gather': 1876, u'selection': 3971, u'portfolio': 3387, u'beat': 416, u'photography': 3294, u'bear': 413, u'bean': 412, u'bead': 411, u'routine': 3845, u'progress': 3493, u'otherwise': 3148, u'nostalgic': 3048, u'tyler': 4659, u'upbeat': 4719, u'define': 1154, u'general': 1885, u'imagination': 2216, u'plain': 3327, u'appearance': 222, u'iot': 2371, u'ios': 2370, u'thought': 4501, u'domestic': 1294, u'lake': 2511, u'journalism': 2438, u'soft': 4148, u'heel': 2080, u'alive': 127, u'convey': 968, u'regain': 3678, u'noise': 3035, u'host': 2154, u'narrate': 2972, u'childrens': 754, u'guard': 1997, u'maze': 2773, u'brand': 536, u'plague': 3326, u'advertising': 76, u'glory': 1919, u'dangerous': 1104, u'pin': 3313, u'pic': 3302, u'pie': 3306, u'pig': 3308, u'tabletop': 4399, u'pit': 3319, u'surreal': 4366, u'category': 695, u'astronomy': 293, u'cookbook': 971, u'sleek': 4112, u'merchant': 2810, u'risk': 3804, u'rise': 3803, u'lurk': 2673, u'venue': 4763, u'expressive': 1609, u'christ': 767, u'molly': 2897, u'asset': 286, u'sexy': 4010, u'muse': 2948, u'phone': 3288, u'connecticut': 925, u'overcome': 3165, u'pouch': 3409, u'must': 2956, u'henry': 2090, u'decorative': 1145, u'guarantee': 1996, u'conversation': 966, u'gate': 1875, u'danny': 1106, u'interior': 2336, u'untold': 4717, u'pound': 3410, u'oven': 3163, u'writing': 4971, u'driving': 1335, u'perception': 3254, u'free': 1808, u'rain': 3602, u'accent': 15, u'portable': 3385, u'revival': 3776, u'wildly': 4908, u'nominate': 3036, u'rag': 3598, u'rad': 3595, u'raw': 3620, u'rat': 3615, u'rap': 3609, u'academy': 14, u'rider': 3796, u'glow': 1921, u'metal': 2817, u'queer': 3576, u'scripture': 3938, u'brick': 559, u'dedication': 1148, u'sculpture': 3944, u'sullivan': 4341, u'alone': 135, u'comical': 866, u'bathroom': 403, u'confident': 920, u'craft': 1016, u'catch': 693, u'empowers': 1459, u'cycle': 1087, u'charlie': 733, u'laptop': 2520, u'furry': 1851, u'advanced': 69, u'trivia': 4626, u'donald': 1296, u'advertise': 75, u'cnc': 819, u'presence': 3436, u'puzzle': 3565, u'entrepreneur': 1509, u'uncle': 4675, u'solar': 4152, u'retire': 3762, u'trio': 4622, u'tip': 4532, u'tim': 4524, u'phoenix': 3287, u'longer': 2638, u'phenomenal': 3280, u'remarkable': 3705, u'promote': 3501, u'brother': 575, u'quick': 3579, u'debate': 1133, u'water': 4853, u'abandon': 1, u'baseball': 393, u'preorder': 3431, u'tribulation': 4617, u'earphone': 1371, u'stream': 4295, u'cocktail': 826, u'clone': 808, u'classroom': 794, u'watercolor': 4854, u'exclusive': 1576, u'mainly': 2699, u'qr': 3568, u'realistic': 3632, u'hacker': 2016, u'undiscovered': 4687, u'motion': 2924, u'george': 1898, u'white': 4896, u'season': 3953, u'quirky': 3584, u'wide': 4902, u'multiple': 2944, u'dylan': 1361, u'trafficking': 4581, u'detective': 1208, u'able': 4, u'hack': 2015, u'wood': 4941, u'expectation': 1589, u'aluminum': 146, u'naked': 2969, u'quarterly': 3572, u'thrilling': 4510, u'reaction': 3626, u'superstar': 4355, u'bizarre': 475, u'howard': 2163, u'peaceful': 3237, u'vivid': 4812, u'archive': 240, u'reminder': 3709, u'physical': 3297, u'driver': 1334, u'proyecto': 3531, u'safely': 3868, u'violent': 4793, u'kill': 2478, u'kiln': 2480, u'blow': 489, u'hint': 2108, u'blog': 486, u'fridge': 1817, u'sasquatch': 3891, u'colorful': 850, u'tarot': 4421, u'slice': 4115, u'determine': 1210, u'valley': 4748, u'fish': 1728, u'cabinet': 619, u'toilet': 4543, u'cinema': 776, u'rubber': 3850, u'trash': 4603, u'separate': 3988, u'symbol': 4389, u'aaron': 0, u'song': 4165, u'far': 1655, u'fat': 1664, u'difficult': 1232, u'ticket': 4517, u'circumstance': 780, u'anniversary': 191, u'wild': 4905, u'backer': 360, u'extraordinary': 1617, u'suddenly': 4332, u'stick': 4270, u'simplicity': 4074, u'reflect': 3672, u'seemingly': 3969, u'disabled': 1250, u'refresh': 3675, u'generation': 1887, u'ritual': 3805, u'fiber': 1692, u'thread': 4504, u'threat': 4505, u'radical': 3596, u'fancy': 1650, u'brave': 539, u'script': 3937, u'interact': 2328, u'option': 3124, u'industrial': 2261, u'double': 1307, u'pianist': 3300, u'react': 3625, u'achievement': 32, u'windows': 4916, u'mexico': 2824, u'font': 1766, u'hip': 2109, u'hit': 2115, u'baroque': 389, u'intelligence': 2321, u'arm': 247, u'various': 4754, u'overlook': 3167, u'behavior': 431, u'rid': 3794, u'analysis': 170, u'edgy': 1394, u'edge': 1393, u'cabaret': 617, u'prop': 3506, u'anna': 189, u'intense': 2324, u'amidst': 161, u'window': 4915, u'crane': 1018, u'karma': 2457, u'scroll': 3939, u'makerspace': 2705, u'metro': 2821, u'engine': 1483, u'apple': 223, u'spy': 4230, u'motor': 2928, u'apply': 225, u'rabbit': 3588, u'refine': 3671, u'pad': 3179, u'tax': 4428, u'tag': 4403, u'pure': 3557, u'inaugural': 2238, u'fortunate': 1790, u'wwii': 4973, u'underwater': 4684, u'pending': 3247, u'crash': 1019, u'practice': 3417, u'trap': 4602, u'sacrifice': 3865, u'york': 4985, u'tommy': 4546, u'afraid': 87, u'agency': 93, u'delve': 1169, u'chicken': 750, u'view': 4782, u'closer': 810, u'closet': 811, u'genius': 1891, u'grain': 1955, u'bbq': 408, u'darker': 1109, u'vintage': 4790, u'premiere': 3429, u'english': 1487, u'rocker': 3819, u'rocket': 3820, u'happiness': 2036, u'sky': 4107, u'unsigned': 4716, u'adoption': 64, u'ski': 4102, u'sick': 4056, u'know': 2497, u'gypsy': 2012, u'sequence': 3991, u'empire': 1452, u'leaf': 2548, u'lead': 2545, u'leap': 2550, u'leader': 2546, u'june': 2449, u'throne': 4512, u'warranty': 4846, u'headphone': 2063, u'brush': 579, u'goodness': 1936, u'et': 1539, u'gay': 1878, u'illinois': 2204, u'book': 502, u'roleplay': 3826, u'gal': 1860}\n"
     ]
    }
   ],
   "source": [
    "print(tfidf_vect.vocabulary_)"
   ]
  },
  {
   "cell_type": "code",
   "execution_count": 23,
   "metadata": {},
   "outputs": [
    {
     "ename": "KeyError",
     "evalue": "'text_final'",
     "output_type": "error",
     "traceback": [
      "\u001b[0;31m---------------------------------------------------------------------------\u001b[0m",
      "\u001b[0;31mKeyError\u001b[0m                                  Traceback (most recent call last)",
      "\u001b[0;32m<ipython-input-23-8f4b5d244682>\u001b[0m in \u001b[0;36m<module>\u001b[0;34m()\u001b[0m\n\u001b[0;32m----> 1\u001b[0;31m \u001b[0mdf\u001b[0m\u001b[0;34m[\u001b[0m\u001b[0;34m'text_final'\u001b[0m\u001b[0;34m]\u001b[0m\u001b[0;34m\u001b[0m\u001b[0m\n\u001b[0m",
      "\u001b[0;32m/Library/Frameworks/Python.framework/Versions/2.7/lib/python2.7/site-packages/pandas/core/frame.pyc\u001b[0m in \u001b[0;36m__getitem__\u001b[0;34m(self, key)\u001b[0m\n\u001b[1;32m   2925\u001b[0m             \u001b[0;32mif\u001b[0m \u001b[0mself\u001b[0m\u001b[0;34m.\u001b[0m\u001b[0mcolumns\u001b[0m\u001b[0;34m.\u001b[0m\u001b[0mnlevels\u001b[0m \u001b[0;34m>\u001b[0m \u001b[0;36m1\u001b[0m\u001b[0;34m:\u001b[0m\u001b[0;34m\u001b[0m\u001b[0m\n\u001b[1;32m   2926\u001b[0m                 \u001b[0;32mreturn\u001b[0m \u001b[0mself\u001b[0m\u001b[0;34m.\u001b[0m\u001b[0m_getitem_multilevel\u001b[0m\u001b[0;34m(\u001b[0m\u001b[0mkey\u001b[0m\u001b[0;34m)\u001b[0m\u001b[0;34m\u001b[0m\u001b[0m\n\u001b[0;32m-> 2927\u001b[0;31m             \u001b[0mindexer\u001b[0m \u001b[0;34m=\u001b[0m \u001b[0mself\u001b[0m\u001b[0;34m.\u001b[0m\u001b[0mcolumns\u001b[0m\u001b[0;34m.\u001b[0m\u001b[0mget_loc\u001b[0m\u001b[0;34m(\u001b[0m\u001b[0mkey\u001b[0m\u001b[0;34m)\u001b[0m\u001b[0;34m\u001b[0m\u001b[0m\n\u001b[0m\u001b[1;32m   2928\u001b[0m             \u001b[0;32mif\u001b[0m \u001b[0mis_integer\u001b[0m\u001b[0;34m(\u001b[0m\u001b[0mindexer\u001b[0m\u001b[0;34m)\u001b[0m\u001b[0;34m:\u001b[0m\u001b[0;34m\u001b[0m\u001b[0m\n\u001b[1;32m   2929\u001b[0m                 \u001b[0mindexer\u001b[0m \u001b[0;34m=\u001b[0m \u001b[0;34m[\u001b[0m\u001b[0mindexer\u001b[0m\u001b[0;34m]\u001b[0m\u001b[0;34m\u001b[0m\u001b[0m\n",
      "\u001b[0;32m/Library/Frameworks/Python.framework/Versions/2.7/lib/python2.7/site-packages/pandas/core/indexes/base.pyc\u001b[0m in \u001b[0;36mget_loc\u001b[0;34m(self, key, method, tolerance)\u001b[0m\n\u001b[1;32m   2657\u001b[0m                 \u001b[0;32mreturn\u001b[0m \u001b[0mself\u001b[0m\u001b[0;34m.\u001b[0m\u001b[0m_engine\u001b[0m\u001b[0;34m.\u001b[0m\u001b[0mget_loc\u001b[0m\u001b[0;34m(\u001b[0m\u001b[0mkey\u001b[0m\u001b[0;34m)\u001b[0m\u001b[0;34m\u001b[0m\u001b[0m\n\u001b[1;32m   2658\u001b[0m             \u001b[0;32mexcept\u001b[0m \u001b[0mKeyError\u001b[0m\u001b[0;34m:\u001b[0m\u001b[0;34m\u001b[0m\u001b[0m\n\u001b[0;32m-> 2659\u001b[0;31m                 \u001b[0;32mreturn\u001b[0m \u001b[0mself\u001b[0m\u001b[0;34m.\u001b[0m\u001b[0m_engine\u001b[0m\u001b[0;34m.\u001b[0m\u001b[0mget_loc\u001b[0m\u001b[0;34m(\u001b[0m\u001b[0mself\u001b[0m\u001b[0;34m.\u001b[0m\u001b[0m_maybe_cast_indexer\u001b[0m\u001b[0;34m(\u001b[0m\u001b[0mkey\u001b[0m\u001b[0;34m)\u001b[0m\u001b[0;34m)\u001b[0m\u001b[0;34m\u001b[0m\u001b[0m\n\u001b[0m\u001b[1;32m   2660\u001b[0m         \u001b[0mindexer\u001b[0m \u001b[0;34m=\u001b[0m \u001b[0mself\u001b[0m\u001b[0;34m.\u001b[0m\u001b[0mget_indexer\u001b[0m\u001b[0;34m(\u001b[0m\u001b[0;34m[\u001b[0m\u001b[0mkey\u001b[0m\u001b[0;34m]\u001b[0m\u001b[0;34m,\u001b[0m \u001b[0mmethod\u001b[0m\u001b[0;34m=\u001b[0m\u001b[0mmethod\u001b[0m\u001b[0;34m,\u001b[0m \u001b[0mtolerance\u001b[0m\u001b[0;34m=\u001b[0m\u001b[0mtolerance\u001b[0m\u001b[0;34m)\u001b[0m\u001b[0;34m\u001b[0m\u001b[0m\n\u001b[1;32m   2661\u001b[0m         \u001b[0;32mif\u001b[0m \u001b[0mindexer\u001b[0m\u001b[0;34m.\u001b[0m\u001b[0mndim\u001b[0m \u001b[0;34m>\u001b[0m \u001b[0;36m1\u001b[0m \u001b[0;32mor\u001b[0m \u001b[0mindexer\u001b[0m\u001b[0;34m.\u001b[0m\u001b[0msize\u001b[0m \u001b[0;34m>\u001b[0m \u001b[0;36m1\u001b[0m\u001b[0;34m:\u001b[0m\u001b[0;34m\u001b[0m\u001b[0m\n",
      "\u001b[0;32mpandas/_libs/index.pyx\u001b[0m in \u001b[0;36mpandas._libs.index.IndexEngine.get_loc\u001b[0;34m()\u001b[0m\n",
      "\u001b[0;32mpandas/_libs/index.pyx\u001b[0m in \u001b[0;36mpandas._libs.index.IndexEngine.get_loc\u001b[0;34m()\u001b[0m\n",
      "\u001b[0;32mpandas/_libs/hashtable_class_helper.pxi\u001b[0m in \u001b[0;36mpandas._libs.hashtable.PyObjectHashTable.get_item\u001b[0;34m()\u001b[0m\n",
      "\u001b[0;32mpandas/_libs/hashtable_class_helper.pxi\u001b[0m in \u001b[0;36mpandas._libs.hashtable.PyObjectHashTable.get_item\u001b[0;34m()\u001b[0m\n",
      "\u001b[0;31mKeyError\u001b[0m: 'text_final'"
     ]
    }
   ],
   "source": [
    "df['text_final']"
   ]
  },
  {
   "cell_type": "code",
   "execution_count": 24,
   "metadata": {},
   "outputs": [
    {
     "data": {
      "text/plain": [
       "0    51125\n",
       "1    36959\n",
       "Name: status, dtype: int64"
      ]
     },
     "execution_count": 24,
     "metadata": {},
     "output_type": "execute_result"
    }
   ],
   "source": [
    "df['status'].value_counts()"
   ]
  },
  {
   "cell_type": "code",
   "execution_count": null,
   "metadata": {},
   "outputs": [],
   "source": []
  }
 ],
 "metadata": {
  "kernelspec": {
   "display_name": "Python 3",
   "language": "python",
   "name": "python3"
  },
  "language_info": {
   "codemirror_mode": {
    "name": "ipython",
    "version": 2
   },
   "file_extension": ".py",
   "mimetype": "text/x-python",
   "name": "python",
   "nbconvert_exporter": "python",
   "pygments_lexer": "ipython2",
   "version": "2.7.15"
  }
 },
 "nbformat": 4,
 "nbformat_minor": 2
}
